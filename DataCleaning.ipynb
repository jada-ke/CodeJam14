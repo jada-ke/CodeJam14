{
  "nbformat": 4,
  "nbformat_minor": 0,
  "metadata": {
    "colab": {
      "provenance": [],
      "authorship_tag": "ABX9TyOQWIqEgoTnGpMq1F723D+z",
      "include_colab_link": true
    },
    "kernelspec": {
      "name": "python3",
      "display_name": "Python 3"
    },
    "language_info": {
      "name": "python"
    }
  },
  "cells": [
    {
      "cell_type": "markdown",
      "metadata": {
        "id": "view-in-github",
        "colab_type": "text"
      },
      "source": [
        "<a href=\"https://colab.research.google.com/github/jada-ke/CodeJam14/blob/main/DataCleaning.ipynb\" target=\"_parent\"><img src=\"https://colab.research.google.com/assets/colab-badge.svg\" alt=\"Open In Colab\"/></a>"
      ]
    },
    {
      "cell_type": "markdown",
      "source": [
        "**Mount Google Drive**"
      ],
      "metadata": {
        "id": "Dmy62Vm8Gi_H"
      }
    },
    {
      "cell_type": "code",
      "source": [
        "from google.colab import drive\n",
        "drive.mount('/content/drive')\n"
      ],
      "metadata": {
        "colab": {
          "base_uri": "https://localhost:8080/"
        },
        "id": "mK318bM-GYfx",
        "outputId": "afad28dd-a95d-4cb7-9960-c8248e3a175a"
      },
      "execution_count": null,
      "outputs": [
        {
          "output_type": "stream",
          "name": "stdout",
          "text": [
            "Mounted at /content/drive\n"
          ]
        }
      ]
    },
    {
      "cell_type": "markdown",
      "source": [
        "# Forex Data Cleaing"
      ],
      "metadata": {
        "id": "eKP8nwFECWVN"
      }
    },
    {
      "cell_type": "markdown",
      "source": [
        "Clean DataFrame"
      ],
      "metadata": {
        "id": "eRXmxsu2F948"
      }
    },
    {
      "cell_type": "code",
      "source": [
        "import pandas as pd\n",
        "\n",
        "# Load the forex data (replace with your actual file path)\n",
        "file_path = '/content/drive/MyDrive/Ai4Ducks/hack/CodeJam/Data/Collection/forex_data.csv'  # Update with the actual path to your forex data CSV\n",
        "forex_df = pd.read_csv(file_path)\n",
        "\n",
        "# Display the first few rows to check the structure\n",
        "print(forex_df.head())\n",
        "\n",
        "# Convert the 'Date' column to datetime type\n",
        "forex_df['Date'] = pd.to_datetime(forex_df['Date'])\n",
        "\n",
        "# Set 'Date' as the index of the DataFrame for time-series analysis\n",
        "forex_df.set_index('Date', inplace=True)\n",
        "\n",
        "# Check for missing values in the data\n",
        "print(forex_df.isnull().sum())\n",
        "\n",
        "# If there are missing values, you can choose to fill or drop them.\n",
        "# For example, we can forward fill the missing values:\n",
        "forex_df.fillna(method='ffill', inplace=True)\n",
        "\n",
        "# Alternatively, you can drop rows with missing values:\n",
        "# forex_df.dropna(inplace=True)\n",
        "\n",
        "# Drop any unnecessary columns if you have others in the dataset you don't need.\n",
        "# For example, if there's an additional 'Timestamp' column, you can drop it:\n",
        "# forex_df.drop(columns=['Timestamp'], inplace=True)\n",
        "\n",
        "# Optionally, if you only want to keep the 'Close' price as a target variable:\n",
        "forex_df = forex_df[['Open', 'High', 'Low', 'Close']]\n",
        "\n",
        "# Display the cleaned DataFrame\n",
        "print(forex_df.head())\n",
        "\n",
        "# Define the path to save the preprocessed data\n",
        "save_path = '/content/drive/MyDrive/Ai4Ducks/hack/CodeJam/Data/Clean/cleaned_forex_data.csv'  # Update with the desired path to save the cleaned data\n",
        "\n",
        "# Save the cleaned DataFrame to a new CSV file\n",
        "forex_df.to_csv(save_path)\n",
        "\n",
        "print(f\"Preprocessed data saved to: {save_path}\")\n"
      ],
      "metadata": {
        "colab": {
          "base_uri": "https://localhost:8080/"
        },
        "id": "S8TLAn2rEmQI",
        "outputId": "27c963bd-9a09-4fde-9594-774af9d81f8d"
      },
      "execution_count": null,
      "outputs": [
        {
          "output_type": "stream",
          "name": "stdout",
          "text": [
            "         Date    Open    High     Low   Close\n",
            "0  2016-01-01  0.7223  0.7226  0.7214  0.7226\n",
            "1  2016-01-04  0.7205  0.7222  0.7147  0.7178\n",
            "2  2016-01-05  0.7175  0.7193  0.7129  0.7150\n",
            "3  2016-01-06  0.7147  0.7154  0.7084  0.7101\n",
            "4  2016-01-07  0.7098  0.7115  0.7053  0.7080\n",
            "Open     0\n",
            "High     0\n",
            "Low      0\n",
            "Close    0\n",
            "dtype: int64\n",
            "              Open    High     Low   Close\n",
            "Date                                      \n",
            "2016-01-01  0.7223  0.7226  0.7214  0.7226\n",
            "2016-01-04  0.7205  0.7222  0.7147  0.7178\n",
            "2016-01-05  0.7175  0.7193  0.7129  0.7150\n",
            "2016-01-06  0.7147  0.7154  0.7084  0.7101\n",
            "2016-01-07  0.7098  0.7115  0.7053  0.7080\n",
            "Preprocessed data saved to: /content/drive/MyDrive/Ai4Ducks/hack/CodeJam/Data/Clean/cleaned_forex_data.csv\n"
          ]
        },
        {
          "output_type": "stream",
          "name": "stderr",
          "text": [
            "<ipython-input-13-bb1bf001c0a5>:21: FutureWarning: DataFrame.fillna with 'method' is deprecated and will raise in a future version. Use obj.ffill() or obj.bfill() instead.\n",
            "  forex_df.fillna(method='ffill', inplace=True)\n"
          ]
        }
      ]
    },
    {
      "cell_type": "markdown",
      "source": [
        "# Combined Forex and GDP"
      ],
      "metadata": {
        "id": "4_KnWD0jHxKb"
      }
    },
    {
      "cell_type": "code",
      "source": [
        "import pandas as pd\n",
        "\n",
        "# File paths (update with your actual file paths)\n",
        "forex_file_path = \"/content/drive/MyDrive/Ai4Ducks/hack/CodeJam/Data/Clean/cleaned_forex_data.csv\"\n",
        "gdp_file_path = \"/content/drive/MyDrive/Ai4Ducks/hack/CodeJam/Data/Collection/combined_gdp.csv\"\n",
        "\n",
        "# Step 1: Load the Forex data\n",
        "try:\n",
        "    forex_df = pd.read_csv(forex_file_path)\n",
        "except FileNotFoundError:\n",
        "    print(f\"Error: File not found at {forex_file_path}\")\n",
        "    raise\n",
        "\n",
        "# Ensure the required columns exist in the Forex data\n",
        "required_forex_columns = {'Date', 'Open', 'High', 'Low', 'Close'}\n",
        "missing_forex_columns = required_forex_columns - set(forex_df.columns)\n",
        "if missing_forex_columns:\n",
        "    raise KeyError(f\"Missing columns in Forex data: {missing_forex_columns}\")\n",
        "\n",
        "# Step 2: Add 'Year' column to Forex data (extract from 'Date')\n",
        "forex_df['Date'] = pd.to_datetime(forex_df['Date'])\n",
        "forex_df['Year'] = forex_df['Date'].dt.year\n",
        "\n",
        "# Step 3: Load the GDP data\n",
        "try:\n",
        "    gdp_df = pd.read_csv(gdp_file_path)\n",
        "except FileNotFoundError:\n",
        "    print(f\"Error: File not found at {gdp_file_path}\")\n",
        "    raise\n",
        "\n",
        "# Ensure the GDP data has required columns\n",
        "required_gdp_columns = {'Country', 'Year', 'GDP'}\n",
        "missing_gdp_columns = required_gdp_columns - set(gdp_df.columns)\n",
        "if missing_gdp_columns:\n",
        "    raise KeyError(f\"Missing columns in GDP data: {missing_gdp_columns}\")\n",
        "\n",
        "# Step 4: Pivot GDP data to have separate columns for each country\n",
        "gdp_pivot = gdp_df.pivot(index='Year', columns='Country', values='GDP').reset_index()\n",
        "gdp_pivot.columns.name = None  # Remove the name of the pivot table columns for simplicity\n",
        "gdp_pivot = gdp_pivot.rename(columns={'CAN': 'CAN_GDP', 'USA': 'USA_GDP'})\n",
        "\n",
        "# Step 5: Merge the pivoted GDP data with the Forex data\n",
        "merged_df = pd.merge(forex_df, gdp_pivot, on='Year', how='left')\n",
        "\n",
        "# Step 6: Save the combined data\n",
        "output_file_path = \"/content/drive/MyDrive/Ai4Ducks/hack/CodeJam/Data/Clean/Master.csv\"\n",
        "merged_df.to_csv(output_file_path, index=False)\n",
        "\n",
        "# Display the first few rows of the combined dataset\n",
        "print(merged_df.head())\n"
      ],
      "metadata": {
        "colab": {
          "base_uri": "https://localhost:8080/"
        },
        "id": "wAgausCuQiWC",
        "outputId": "051bcb9b-3031-441d-ab0b-9202278b33fb"
      },
      "execution_count": null,
      "outputs": [
        {
          "output_type": "stream",
          "name": "stdout",
          "text": [
            "        Date    Open    High     Low   Close  Year  CAN_GDP  USA_GDP\n",
            "0 2016-01-01  0.7223  0.7226  0.7214  0.7226  2016  46545.8  57930.9\n",
            "1 2016-01-04  0.7205  0.7222  0.7147  0.7178  2016  46545.8  57930.9\n",
            "2 2016-01-05  0.7175  0.7193  0.7129  0.7150  2016  46545.8  57930.9\n",
            "3 2016-01-06  0.7147  0.7154  0.7084  0.7101  2016  46545.8  57930.9\n",
            "4 2016-01-07  0.7098  0.7115  0.7053  0.7080  2016  46545.8  57930.9\n"
          ]
        }
      ]
    },
    {
      "cell_type": "markdown",
      "source": [
        "# Added Interest Rates to Master File"
      ],
      "metadata": {
        "id": "gZlnMEx-ppqL"
      }
    },
    {
      "cell_type": "code",
      "source": [
        "import pandas as pd\n",
        "\n",
        "# File paths\n",
        "master_file_path = '/content/drive/MyDrive/Ai4Ducks/hack/CodeJam/Data/Clean/Master.csv'\n",
        "usa_interest_file_path = '/content/drive/MyDrive/Ai4Ducks/hack/CodeJam/Data/Clean/cleaned_usa_interest_rates.csv'\n",
        "can_interest_file_path = '/content/drive/MyDrive/Ai4Ducks/hack/CodeJam/Data/Clean/cleaned_can_interest_rates.csv'\n",
        "output_file_path = '/content/drive/MyDrive/Ai4Ducks/hack/CodeJam/Data/Clean/Master2.csv'\n",
        "\n",
        "# Step 1: Load all three files\n",
        "try:\n",
        "    master_df = pd.read_csv(master_file_path)\n",
        "    usa_interest_df = pd.read_csv(usa_interest_file_path)\n",
        "    can_interest_df = pd.read_csv(can_interest_file_path)\n",
        "except FileNotFoundError as e:\n",
        "    print(f\"Error: {e}\")\n",
        "    raise\n",
        "except pd.errors.ParserError as e:\n",
        "    print(f\"Error: There was an issue parsing one of the files: {e}\")\n",
        "    raise\n",
        "\n",
        "# Step 2: Drop the 'Year' column from Master.csv if it exists\n",
        "if 'Year' in master_df.columns:\n",
        "    master_df = master_df.drop(columns=['Year'])\n",
        "\n",
        "# Step 3: Merge USA interest rates with Master.csv based on 'Date'\n",
        "merged_df = pd.merge(master_df, usa_interest_df, on='Date', how='left')\n",
        "\n",
        "# Step 4: Merge Canadian interest rates with the previous merged DataFrame based on 'Date'\n",
        "merged_df = pd.merge(merged_df, can_interest_df, on='Date', how='left')\n",
        "\n",
        "# Step 5: Inspect the final merged DataFrame\n",
        "print(\"Final merged DataFrame:\")\n",
        "print(merged_df.head())\n",
        "\n",
        "# Step 6: Save the merged DataFrame to a new CSV file\n",
        "merged_df.to_csv(output_file_path, index=False)\n",
        "\n",
        "print(f\"Merged data saved to {output_file_path}\")\n"
      ],
      "metadata": {
        "colab": {
          "base_uri": "https://localhost:8080/"
        },
        "id": "0jLKj9A2wLd7",
        "outputId": "d5fef69b-b440-42ec-edce-13ccda6a1735"
      },
      "execution_count": null,
      "outputs": [
        {
          "output_type": "stream",
          "name": "stdout",
          "text": [
            "Final merged DataFrame:\n",
            "         Date    Open    High     Low   Close  CAN_GDP  USA_GDP  \\\n",
            "0  2016-01-01  0.7223  0.7226  0.7214  0.7226  46545.8  57930.9   \n",
            "1  2016-01-04  0.7205  0.7222  0.7147  0.7178  46545.8  57930.9   \n",
            "2  2016-01-05  0.7175  0.7193  0.7129  0.7150  46545.8  57930.9   \n",
            "3  2016-01-06  0.7147  0.7154  0.7084  0.7101  46545.8  57930.9   \n",
            "4  2016-01-07  0.7098  0.7115  0.7053  0.7080  46545.8  57930.9   \n",
            "\n",
            "   USA_Interest_Rate CAN_Interest_Rate  \n",
            "0               0.34              0.50  \n",
            "1               0.34              0.50  \n",
            "2               0.34              0.50  \n",
            "3               0.34              0.50  \n",
            "4               0.34              0.50  \n",
            "Merged data saved to /content/drive/MyDrive/Ai4Ducks/hack/CodeJam/Data/Clean/Master2.csv\n"
          ]
        }
      ]
    },
    {
      "cell_type": "markdown",
      "source": [
        "# COMBINING DATA"
      ],
      "metadata": {
        "id": "6ibqAvfFokIO"
      }
    },
    {
      "cell_type": "markdown",
      "source": [
        "Forex + GDP"
      ],
      "metadata": {
        "id": "89uHhmqzooD2"
      }
    },
    {
      "cell_type": "code",
      "source": [
        "import pandas as pd\n",
        "\n",
        "# Load Forex and GDP datasets\n",
        "forex_file = \"/content/drive/MyDrive/Ai4Ducks/hack/CodeJam/Data/Correction/Retrieved/forex_data.csv\"  # Replace with the actual path to your Forex data\n",
        "gdp_file = \"/content/drive/MyDrive/Ai4Ducks/hack/CodeJam/Data/Correction/Retrieved/gdp_data.csv\"\n",
        "\n",
        "# Read the data\n",
        "forex_data = pd.read_csv(forex_file)\n",
        "gdp_data = pd.read_csv(gdp_file)\n",
        "\n",
        "# Ensure \"Date\" columns are datetime\n",
        "forex_data['Date'] = pd.to_datetime(forex_data['Date'])\n",
        "gdp_data['Date'] = pd.to_datetime(gdp_data['Date'])\n",
        "\n",
        "# Sort both datasets by date\n",
        "forex_data = forex_data.sort_values(by='Date')\n",
        "gdp_data = gdp_data.sort_values(by='Date')\n",
        "\n",
        "# Forward-fill GDP data to match Forex dates\n",
        "# This ensures each daily Forex data point gets the most recent GDP data available\n",
        "gdp_data = gdp_data.set_index('Date').reindex(forex_data['Date'], method='ffill').reset_index()\n",
        "\n",
        "# Merge Forex and GDP data on the \"Date\" column\n",
        "merged_data = pd.merge(forex_data, gdp_data, how='left', on='Date')\n",
        "\n",
        "# Save the merged data\n",
        "output_file = \"/content/drive/MyDrive/Ai4Ducks/hack/CodeJam/Data/Correction/Main/forexPLUSgdp.csv\"\n",
        "merged_data.to_csv(output_file, index=False)\n",
        "\n",
        "print(f\"Merged data saved to {output_file}\")\n"
      ],
      "metadata": {
        "colab": {
          "base_uri": "https://localhost:8080/"
        },
        "id": "N5nIb_JgthDK",
        "outputId": "3aa14164-ee1b-4dd5-a555-e70572533f6e"
      },
      "execution_count": null,
      "outputs": [
        {
          "output_type": "stream",
          "name": "stdout",
          "text": [
            "Merged data saved to /content/drive/MyDrive/Ai4Ducks/hack/CodeJam/Data/Correction/Main/forexPLUSgdp.csv\n"
          ]
        }
      ]
    },
    {
      "cell_type": "code",
      "source": [
        "import pandas as pd\n",
        "\n",
        "# Load Forex and GDP datasets\n",
        "forex_file = \"/content/drive/MyDrive/Ai4Ducks/hack/CodeJam/Data/Correction/Retrieved/forex_data.csv\"  # Replace with the actual path to your Forex data\n",
        "gdp_file = \"/content/drive/MyDrive/Ai4Ducks/hack/CodeJam/Data/Correction/Retrieved/gdp_data.csv\"      # Replace with the actual path to your GDP data\n",
        "\n",
        "# Read the CSV files\n",
        "forex_data = pd.read_csv(forex_file)\n",
        "gdp_data = pd.read_csv(gdp_file)\n",
        "\n",
        "# Ensure 'Date' columns are in datetime format\n",
        "forex_data['Date'] = pd.to_datetime(forex_data['Date'])\n",
        "gdp_data['Date'] = pd.to_datetime(gdp_data['Date'])\n",
        "\n",
        "# Sort both datasets by date\n",
        "forex_data = forex_data.sort_values(by='Date')\n",
        "gdp_data = gdp_data.sort_values(by='Date')\n",
        "\n",
        "# Forward-fill GDP data to match daily Forex data\n",
        "gdp_data = gdp_data.set_index('Date')  # Set Date as index for easier alignment\n",
        "forex_data = forex_data.set_index('Date')\n",
        "\n",
        "# Use forward fill to ensure each day gets the most recent GDP value\n",
        "merged_data = forex_data.join(gdp_data, how='left').fillna(method='ffill')\n",
        "\n",
        "# Reset the index to restore 'Date' as a column\n",
        "merged_data = merged_data.reset_index()\n",
        "\n",
        "# Save the merged data to a new CSV\n",
        "output_file = \"/content/drive/MyDrive/Ai4Ducks/hack/CodeJam/Data/Correction/Main/forexPLUSgdp.csv\"\n",
        "merged_data.to_csv(output_file, index=False)\n",
        "\n",
        "print(f\"Data successfully merged and saved to {output_file}\")\n"
      ],
      "metadata": {
        "colab": {
          "base_uri": "https://localhost:8080/"
        },
        "id": "b9lVtmKpsu5D",
        "outputId": "7e45f096-0bdd-4a56-f274-3a8b4c4f208b"
      },
      "execution_count": null,
      "outputs": [
        {
          "output_type": "stream",
          "name": "stdout",
          "text": [
            "Data successfully merged and saved to /content/drive/MyDrive/Ai4Ducks/hack/CodeJam/Data/Correction/Main/forexPLUSgdp.csv\n"
          ]
        },
        {
          "output_type": "stream",
          "name": "stderr",
          "text": [
            "<ipython-input-4-cde688deda24>:24: FutureWarning: DataFrame.fillna with 'method' is deprecated and will raise in a future version. Use obj.ffill() or obj.bfill() instead.\n",
            "  merged_data = forex_data.join(gdp_data, how='left').fillna(method='ffill')\n"
          ]
        }
      ]
    },
    {
      "cell_type": "code",
      "source": [
        "import pandas as pd\n",
        "\n",
        "# Load Forex and GDP datasets\n",
        "forex_file = \"/content/drive/MyDrive/Ai4Ducks/hack/CodeJam/Data/Correction/Retrieved/forex_data.csv\"\n",
        "gdp_file = \"/content/drive/MyDrive/Ai4Ducks/hack/CodeJam/Data/Correction/Retrieved/gdp_data.csv\"\n",
        "\n",
        "# Read the CSV files\n",
        "forex_data = pd.read_csv(forex_file)\n",
        "gdp_data = pd.read_csv(gdp_file)\n",
        "\n",
        "# Ensure 'Date' columns are in datetime format\n",
        "forex_data['Date'] = pd.to_datetime(forex_data['Date'])\n",
        "gdp_data['Date'] = pd.to_datetime(gdp_data['Date'])\n",
        "\n",
        "# Sort both datasets by date\n",
        "forex_data = forex_data.sort_values(by='Date')\n",
        "gdp_data = gdp_data.sort_values(by='Date')\n",
        "\n",
        "# Forward-fill GDP data to match daily Forex data\n",
        "gdp_data = gdp_data.set_index('Date')  # Set Date as index for easier alignment\n",
        "forex_data = forex_data.set_index('Date')\n",
        "\n",
        "# Use forward fill to ensure each day gets the most recent GDP value\n",
        "merged_data = forex_data.join(gdp_data, how='left').fillna(method='ffill')\n",
        "\n",
        "# Reset the index to restore 'Date' as a column\n",
        "merged_data = merged_data.reset_index()\n",
        "\n",
        "# Save the merged data to a new CSV\n",
        "output_file = \"/content/drive/MyDrive/Ai4Ducks/hack/CodeJam/Data/Correction/Main/forexPLUSgdp.csv\"\n",
        "merged_data.to_csv(output_file, index=False)\n",
        "\n",
        "print(f\"Data successfully merged and saved to {output_file}\")\n"
      ],
      "metadata": {
        "colab": {
          "base_uri": "https://localhost:8080/"
        },
        "id": "i1vtFfjYp931",
        "outputId": "94e9a16b-c5f4-4521-dbe8-343c1bf31623"
      },
      "execution_count": null,
      "outputs": [
        {
          "output_type": "stream",
          "name": "stdout",
          "text": [
            "Data successfully merged and saved to /content/drive/MyDrive/Ai4Ducks/hack/CodeJam/Data/Correction/Main/forexPLUSgdp.csv\n"
          ]
        },
        {
          "output_type": "stream",
          "name": "stderr",
          "text": [
            "<ipython-input-3-55967cc9fa8d>:24: FutureWarning: DataFrame.fillna with 'method' is deprecated and will raise in a future version. Use obj.ffill() or obj.bfill() instead.\n",
            "  merged_data = forex_data.join(gdp_data, how='left').fillna(method='ffill')\n"
          ]
        }
      ]
    }
  ]
}