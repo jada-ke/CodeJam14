{
  "nbformat": 4,
  "nbformat_minor": 0,
  "metadata": {
    "colab": {
      "provenance": []
    },
    "kernelspec": {
      "name": "python3",
      "display_name": "Python 3"
    },
    "language_info": {
      "name": "python"
    },
    "widgets": {
      "application/vnd.jupyter.widget-state+json": {
        "17d850da57724879b81323aa67457812": {
          "model_module": "@jupyter-widgets/controls",
          "model_name": "HBoxModel",
          "model_module_version": "1.5.0",
          "state": {
            "_dom_classes": [],
            "_model_module": "@jupyter-widgets/controls",
            "_model_module_version": "1.5.0",
            "_model_name": "HBoxModel",
            "_view_count": null,
            "_view_module": "@jupyter-widgets/controls",
            "_view_module_version": "1.5.0",
            "_view_name": "HBoxView",
            "box_style": "",
            "children": [
              "IPY_MODEL_fffc57c58fec419fab1b931d3ddf2d57",
              "IPY_MODEL_f4c19c07047345e59a79d64c5931f273",
              "IPY_MODEL_07474ebe27d74614bd77af46d7ab3eb5"
            ],
            "layout": "IPY_MODEL_ac5e2aa0ba664234b226fc4b49ffe374"
          }
        },
        "fffc57c58fec419fab1b931d3ddf2d57": {
          "model_module": "@jupyter-widgets/controls",
          "model_name": "HTMLModel",
          "model_module_version": "1.5.0",
          "state": {
            "_dom_classes": [],
            "_model_module": "@jupyter-widgets/controls",
            "_model_module_version": "1.5.0",
            "_model_name": "HTMLModel",
            "_view_count": null,
            "_view_module": "@jupyter-widgets/controls",
            "_view_module_version": "1.5.0",
            "_view_name": "HTMLView",
            "description": "",
            "description_tooltip": null,
            "layout": "IPY_MODEL_3792de70edc14cd68238e164d518037d",
            "placeholder": "​",
            "style": "IPY_MODEL_4acef26b74834adfa538aec415e6843d",
            "value": "Batches: 100%"
          }
        },
        "f4c19c07047345e59a79d64c5931f273": {
          "model_module": "@jupyter-widgets/controls",
          "model_name": "FloatProgressModel",
          "model_module_version": "1.5.0",
          "state": {
            "_dom_classes": [],
            "_model_module": "@jupyter-widgets/controls",
            "_model_module_version": "1.5.0",
            "_model_name": "FloatProgressModel",
            "_view_count": null,
            "_view_module": "@jupyter-widgets/controls",
            "_view_module_version": "1.5.0",
            "_view_name": "ProgressView",
            "bar_style": "success",
            "description": "",
            "description_tooltip": null,
            "layout": "IPY_MODEL_21fff3e987384c23a2d73a5e33362aef",
            "max": 101,
            "min": 0,
            "orientation": "horizontal",
            "style": "IPY_MODEL_00f1d337ecc948658886a452610386ab",
            "value": 101
          }
        },
        "07474ebe27d74614bd77af46d7ab3eb5": {
          "model_module": "@jupyter-widgets/controls",
          "model_name": "HTMLModel",
          "model_module_version": "1.5.0",
          "state": {
            "_dom_classes": [],
            "_model_module": "@jupyter-widgets/controls",
            "_model_module_version": "1.5.0",
            "_model_name": "HTMLModel",
            "_view_count": null,
            "_view_module": "@jupyter-widgets/controls",
            "_view_module_version": "1.5.0",
            "_view_name": "HTMLView",
            "description": "",
            "description_tooltip": null,
            "layout": "IPY_MODEL_d12061ef99414e8fad467238802740ce",
            "placeholder": "​",
            "style": "IPY_MODEL_6ed666858ba945f88782c03381199e57",
            "value": " 101/101 [00:55&lt;00:00,  2.37it/s]"
          }
        },
        "ac5e2aa0ba664234b226fc4b49ffe374": {
          "model_module": "@jupyter-widgets/base",
          "model_name": "LayoutModel",
          "model_module_version": "1.2.0",
          "state": {
            "_model_module": "@jupyter-widgets/base",
            "_model_module_version": "1.2.0",
            "_model_name": "LayoutModel",
            "_view_count": null,
            "_view_module": "@jupyter-widgets/base",
            "_view_module_version": "1.2.0",
            "_view_name": "LayoutView",
            "align_content": null,
            "align_items": null,
            "align_self": null,
            "border": null,
            "bottom": null,
            "display": null,
            "flex": null,
            "flex_flow": null,
            "grid_area": null,
            "grid_auto_columns": null,
            "grid_auto_flow": null,
            "grid_auto_rows": null,
            "grid_column": null,
            "grid_gap": null,
            "grid_row": null,
            "grid_template_areas": null,
            "grid_template_columns": null,
            "grid_template_rows": null,
            "height": null,
            "justify_content": null,
            "justify_items": null,
            "left": null,
            "margin": null,
            "max_height": null,
            "max_width": null,
            "min_height": null,
            "min_width": null,
            "object_fit": null,
            "object_position": null,
            "order": null,
            "overflow": null,
            "overflow_x": null,
            "overflow_y": null,
            "padding": null,
            "right": null,
            "top": null,
            "visibility": null,
            "width": null
          }
        },
        "3792de70edc14cd68238e164d518037d": {
          "model_module": "@jupyter-widgets/base",
          "model_name": "LayoutModel",
          "model_module_version": "1.2.0",
          "state": {
            "_model_module": "@jupyter-widgets/base",
            "_model_module_version": "1.2.0",
            "_model_name": "LayoutModel",
            "_view_count": null,
            "_view_module": "@jupyter-widgets/base",
            "_view_module_version": "1.2.0",
            "_view_name": "LayoutView",
            "align_content": null,
            "align_items": null,
            "align_self": null,
            "border": null,
            "bottom": null,
            "display": null,
            "flex": null,
            "flex_flow": null,
            "grid_area": null,
            "grid_auto_columns": null,
            "grid_auto_flow": null,
            "grid_auto_rows": null,
            "grid_column": null,
            "grid_gap": null,
            "grid_row": null,
            "grid_template_areas": null,
            "grid_template_columns": null,
            "grid_template_rows": null,
            "height": null,
            "justify_content": null,
            "justify_items": null,
            "left": null,
            "margin": null,
            "max_height": null,
            "max_width": null,
            "min_height": null,
            "min_width": null,
            "object_fit": null,
            "object_position": null,
            "order": null,
            "overflow": null,
            "overflow_x": null,
            "overflow_y": null,
            "padding": null,
            "right": null,
            "top": null,
            "visibility": null,
            "width": null
          }
        },
        "4acef26b74834adfa538aec415e6843d": {
          "model_module": "@jupyter-widgets/controls",
          "model_name": "DescriptionStyleModel",
          "model_module_version": "1.5.0",
          "state": {
            "_model_module": "@jupyter-widgets/controls",
            "_model_module_version": "1.5.0",
            "_model_name": "DescriptionStyleModel",
            "_view_count": null,
            "_view_module": "@jupyter-widgets/base",
            "_view_module_version": "1.2.0",
            "_view_name": "StyleView",
            "description_width": ""
          }
        },
        "21fff3e987384c23a2d73a5e33362aef": {
          "model_module": "@jupyter-widgets/base",
          "model_name": "LayoutModel",
          "model_module_version": "1.2.0",
          "state": {
            "_model_module": "@jupyter-widgets/base",
            "_model_module_version": "1.2.0",
            "_model_name": "LayoutModel",
            "_view_count": null,
            "_view_module": "@jupyter-widgets/base",
            "_view_module_version": "1.2.0",
            "_view_name": "LayoutView",
            "align_content": null,
            "align_items": null,
            "align_self": null,
            "border": null,
            "bottom": null,
            "display": null,
            "flex": null,
            "flex_flow": null,
            "grid_area": null,
            "grid_auto_columns": null,
            "grid_auto_flow": null,
            "grid_auto_rows": null,
            "grid_column": null,
            "grid_gap": null,
            "grid_row": null,
            "grid_template_areas": null,
            "grid_template_columns": null,
            "grid_template_rows": null,
            "height": null,
            "justify_content": null,
            "justify_items": null,
            "left": null,
            "margin": null,
            "max_height": null,
            "max_width": null,
            "min_height": null,
            "min_width": null,
            "object_fit": null,
            "object_position": null,
            "order": null,
            "overflow": null,
            "overflow_x": null,
            "overflow_y": null,
            "padding": null,
            "right": null,
            "top": null,
            "visibility": null,
            "width": null
          }
        },
        "00f1d337ecc948658886a452610386ab": {
          "model_module": "@jupyter-widgets/controls",
          "model_name": "ProgressStyleModel",
          "model_module_version": "1.5.0",
          "state": {
            "_model_module": "@jupyter-widgets/controls",
            "_model_module_version": "1.5.0",
            "_model_name": "ProgressStyleModel",
            "_view_count": null,
            "_view_module": "@jupyter-widgets/base",
            "_view_module_version": "1.2.0",
            "_view_name": "StyleView",
            "bar_color": null,
            "description_width": ""
          }
        },
        "d12061ef99414e8fad467238802740ce": {
          "model_module": "@jupyter-widgets/base",
          "model_name": "LayoutModel",
          "model_module_version": "1.2.0",
          "state": {
            "_model_module": "@jupyter-widgets/base",
            "_model_module_version": "1.2.0",
            "_model_name": "LayoutModel",
            "_view_count": null,
            "_view_module": "@jupyter-widgets/base",
            "_view_module_version": "1.2.0",
            "_view_name": "LayoutView",
            "align_content": null,
            "align_items": null,
            "align_self": null,
            "border": null,
            "bottom": null,
            "display": null,
            "flex": null,
            "flex_flow": null,
            "grid_area": null,
            "grid_auto_columns": null,
            "grid_auto_flow": null,
            "grid_auto_rows": null,
            "grid_column": null,
            "grid_gap": null,
            "grid_row": null,
            "grid_template_areas": null,
            "grid_template_columns": null,
            "grid_template_rows": null,
            "height": null,
            "justify_content": null,
            "justify_items": null,
            "left": null,
            "margin": null,
            "max_height": null,
            "max_width": null,
            "min_height": null,
            "min_width": null,
            "object_fit": null,
            "object_position": null,
            "order": null,
            "overflow": null,
            "overflow_x": null,
            "overflow_y": null,
            "padding": null,
            "right": null,
            "top": null,
            "visibility": null,
            "width": null
          }
        },
        "6ed666858ba945f88782c03381199e57": {
          "model_module": "@jupyter-widgets/controls",
          "model_name": "DescriptionStyleModel",
          "model_module_version": "1.5.0",
          "state": {
            "_model_module": "@jupyter-widgets/controls",
            "_model_module_version": "1.5.0",
            "_model_name": "DescriptionStyleModel",
            "_view_count": null,
            "_view_module": "@jupyter-widgets/base",
            "_view_module_version": "1.2.0",
            "_view_name": "StyleView",
            "description_width": ""
          }
        }
      }
    }
  },
  "cells": [
    {
      "cell_type": "code",
      "execution_count": 10,
      "metadata": {
        "colab": {
          "base_uri": "https://localhost:8080/"
        },
        "collapsed": true,
        "id": "nwEXkh4Fe0qV",
        "outputId": "db035679-555a-459c-de68-4d3136623a87"
      },
      "outputs": [
        {
          "output_type": "stream",
          "name": "stdout",
          "text": [
            "Requirement already satisfied: gensim in /usr/local/lib/python3.10/dist-packages (4.3.3)\n",
            "Requirement already satisfied: nltk in /usr/local/lib/python3.10/dist-packages (3.9.1)\n",
            "Requirement already satisfied: pyLDAvis in /usr/local/lib/python3.10/dist-packages (3.4.1)\n",
            "Requirement already satisfied: numpy<2.0,>=1.18.5 in /usr/local/lib/python3.10/dist-packages (from gensim) (1.26.4)\n",
            "Requirement already satisfied: scipy<1.14.0,>=1.7.0 in /usr/local/lib/python3.10/dist-packages (from gensim) (1.13.1)\n",
            "Requirement already satisfied: smart-open>=1.8.1 in /usr/local/lib/python3.10/dist-packages (from gensim) (7.0.5)\n",
            "Requirement already satisfied: click in /usr/local/lib/python3.10/dist-packages (from nltk) (8.1.7)\n",
            "Requirement already satisfied: joblib in /usr/local/lib/python3.10/dist-packages (from nltk) (1.4.2)\n",
            "Requirement already satisfied: regex>=2021.8.3 in /usr/local/lib/python3.10/dist-packages (from nltk) (2024.9.11)\n",
            "Requirement already satisfied: tqdm in /usr/local/lib/python3.10/dist-packages (from nltk) (4.66.6)\n",
            "Requirement already satisfied: pandas>=2.0.0 in /usr/local/lib/python3.10/dist-packages (from pyLDAvis) (2.2.2)\n",
            "Requirement already satisfied: jinja2 in /usr/local/lib/python3.10/dist-packages (from pyLDAvis) (3.1.4)\n",
            "Requirement already satisfied: numexpr in /usr/local/lib/python3.10/dist-packages (from pyLDAvis) (2.10.1)\n",
            "Requirement already satisfied: funcy in /usr/local/lib/python3.10/dist-packages (from pyLDAvis) (2.0)\n",
            "Requirement already satisfied: scikit-learn>=1.0.0 in /usr/local/lib/python3.10/dist-packages (from pyLDAvis) (1.5.2)\n",
            "Requirement already satisfied: setuptools in /usr/local/lib/python3.10/dist-packages (from pyLDAvis) (75.1.0)\n",
            "Requirement already satisfied: python-dateutil>=2.8.2 in /usr/local/lib/python3.10/dist-packages (from pandas>=2.0.0->pyLDAvis) (2.8.2)\n",
            "Requirement already satisfied: pytz>=2020.1 in /usr/local/lib/python3.10/dist-packages (from pandas>=2.0.0->pyLDAvis) (2024.2)\n",
            "Requirement already satisfied: tzdata>=2022.7 in /usr/local/lib/python3.10/dist-packages (from pandas>=2.0.0->pyLDAvis) (2024.2)\n",
            "Requirement already satisfied: threadpoolctl>=3.1.0 in /usr/local/lib/python3.10/dist-packages (from scikit-learn>=1.0.0->pyLDAvis) (3.5.0)\n",
            "Requirement already satisfied: wrapt in /usr/local/lib/python3.10/dist-packages (from smart-open>=1.8.1->gensim) (1.16.0)\n",
            "Requirement already satisfied: MarkupSafe>=2.0 in /usr/local/lib/python3.10/dist-packages (from jinja2->pyLDAvis) (3.0.2)\n",
            "Requirement already satisfied: six>=1.5 in /usr/local/lib/python3.10/dist-packages (from python-dateutil>=2.8.2->pandas>=2.0.0->pyLDAvis) (1.16.0)\n"
          ]
        }
      ],
      "source": [
        "\n",
        "import nltk\n",
        "from nltk.corpus import stopwords\n",
        "from nltk.tokenize import word_tokenize\n",
        "from nltk.stem import WordNetLemmatizer\n",
        "import string\n",
        "import pandas as pd\n",
        "import numpy as np"
      ]
    },
    {
      "cell_type": "code",
      "source": [
        "nltk.download('punkt')\n",
        "nltk.download('punkt_tab')\n",
        "nltk.download('stopwords')\n",
        "nltk.download('wordnet')\n",
        "\n",
        "stop_words = set(stopwords.words('english'))\n",
        "custom_stop_words = [\"mr\", \"ms\", \"mrs\", \"said\"]  # Example custom additions\n",
        "stop_words.update(custom_stop_words)\n",
        "stop_words = list(stop_words)"
      ],
      "metadata": {
        "colab": {
          "base_uri": "https://localhost:8080/"
        },
        "id": "CtaSB2LkWu93",
        "outputId": "c54c87c3-8cad-4eee-89ac-06cef02f3ef2"
      },
      "execution_count": 63,
      "outputs": [
        {
          "output_type": "stream",
          "name": "stderr",
          "text": [
            "[nltk_data] Downloading package punkt to /root/nltk_data...\n",
            "[nltk_data]   Package punkt is already up-to-date!\n",
            "[nltk_data] Downloading package punkt_tab to /root/nltk_data...\n",
            "[nltk_data]   Package punkt_tab is already up-to-date!\n",
            "[nltk_data] Downloading package stopwords to /root/nltk_data...\n",
            "[nltk_data]   Package stopwords is already up-to-date!\n",
            "[nltk_data] Downloading package wordnet to /root/nltk_data...\n",
            "[nltk_data]   Package wordnet is already up-to-date!\n"
          ]
        }
      ]
    },
    {
      "cell_type": "code",
      "source": [
        "from google.colab import drive\n",
        "drive.mount('/content/drive/')"
      ],
      "metadata": {
        "colab": {
          "base_uri": "https://localhost:8080/"
        },
        "id": "VEA-8TLLfOaR",
        "outputId": "5e9594f8-eec8-4b38-c94e-3936aaf8b3ce"
      },
      "execution_count": 71,
      "outputs": [
        {
          "output_type": "stream",
          "name": "stdout",
          "text": [
            "Drive already mounted at /content/drive/; to attempt to forcibly remount, call drive.mount(\"/content/drive/\", force_remount=True).\n"
          ]
        }
      ]
    },
    {
      "cell_type": "code",
      "source": [
        "import pandas as pd\n",
        "file_path = \"/content/drive/My Drive/nyt_articles_sentiment.csv\"\n",
        "\n",
        "dataframe = pd.read_csv(file_path, delimiter=\",\")\n",
        "econdf = dataframe[dataframe[\"subsection\"]== \"Economy\"]\n",
        "politicsdf = dataframe[dataframe[\"subsection\"]== \"Politics\"]\n",
        "\n",
        "import re\n",
        "\n",
        "# Function to clean the snippet text\n",
        "def clean_snippet(text):\n",
        "    # Remove non-alphabetic characters and punctuation, except spaces\n",
        "    text = re.sub(r\"[^a-zA-Z\\s]\", \"\", text)\n",
        "    # Remove single-character tokens (like \"j\", \"M\")\n",
        "    text = re.sub(r\"\\b[a-zA-Z]\\b\", \"\", text)\n",
        "    # Remove extra spaces\n",
        "    text = re.sub(r\"\\s+\", \" \", text).strip()\n",
        "    return text\n",
        "\n",
        "# Apply the cleaning function to the 'snippet' column\n",
        "econdf['snippet'] = econdf['snippet'].apply(clean_snippet)\n",
        "politicsdf['snippet'] = politicsdf['snippet'].apply(clean_snippet)\n",
        "\n",
        "# Drop rows where the cleaned snippet is empty\n",
        "econdf = econdf[econdf['snippet'].str.strip() != \"\"]\n",
        "politicsdf = politicsdf[politicsdf['snippet'].str.strip() != \"\"]\n",
        "\n",
        "dataframe = politicsdf\n",
        "\n",
        "pd.set_option('display.max_columns',1000)\n",
        "pd.set_option('display.width',10000)\n",
        "print(econdf)\n",
        "print(politicsdf)"
      ],
      "metadata": {
        "colab": {
          "base_uri": "https://localhost:8080/"
        },
        "id": "weyAX4s5frHe",
        "outputId": "538fcec3-73e3-4f48-af3e-1958e601497e"
      },
      "execution_count": 72,
      "outputs": [
        {
          "output_type": "stream",
          "name": "stderr",
          "text": [
            "<ipython-input-72-066e08b32d77>:21: SettingWithCopyWarning: \n",
            "A value is trying to be set on a copy of a slice from a DataFrame.\n",
            "Try using .loc[row_indexer,col_indexer] = value instead\n",
            "\n",
            "See the caveats in the documentation: https://pandas.pydata.org/pandas-docs/stable/user_guide/indexing.html#returning-a-view-versus-a-copy\n",
            "  econdf['snippet'] = econdf['snippet'].apply(clean_snippet)\n"
          ]
        },
        {
          "output_type": "stream",
          "name": "stdout",
          "text": [
            "                                                  title                                            snippet                                                url            published_date       section subsection sentiment_label  sentiment_score\n",
            "58    Federal Reserve Won’t Backpedal on Interest Ra...  Ms Yellen the Fed chairwoman told senators tha...  https://www.nytimes.com/2016/02/12/business/ec...  2016-02-11T19:09:41+0000  Business Day    Economy        positive         0.648025\n",
            "102   The Cities on the Sunny Side of the American E...  In places like Denver Seattle and Atlanta empl...  https://www.nytimes.com/2016/04/01/business/ec...  2016-03-31T18:54:38+0000  Business Day    Economy        positive         0.403958\n",
            "104                City by City, Measuring the Recovery  Cities like Denver San Jose Calif and Austin T...  https://www.nytimes.com/interactive/2016/04/01...  2016-03-31T16:50:11+0000  Business Day    Economy        negative         0.823946\n",
            "114   Joel Kurtzman, Economist of Gloom Who Shifted ...  Credited with coining the termeconomic headwin...  https://www.nytimes.com/2016/04/08/business/ec...  2016-04-07T20:17:41+0000  Business Day    Economy         neutral         0.694590\n",
            "136   The Recovery’s Two Sides: Weak Growth Even as ...  The trajectory of the economic recovery remain...  https://www.nytimes.com/2016/04/29/business/ec...  2016-04-28T12:33:45+0000  Business Day    Economy        negative         0.454277\n",
            "...                                                 ...                                                ...                                                ...                       ...           ...        ...             ...              ...\n",
            "3309  Along the Hollywood Walk of Fame, a Struggle t...  Los Angeles lifted restrictions that had force...  https://www.nytimes.com/2024/06/29/business/ec...  2024-06-29T09:01:00+0000  Business Day    Economy        negative         0.766904\n",
            "3354           How A.I. Can Help Start Small Businesses  Entrepreneurs say use of artificial intelligen...  https://www.nytimes.com/2024/08/18/business/ec...  2024-08-18T09:01:54+0000  Business Day    Economy        positive         0.928998\n",
            "3377  White-Collar Workers Are Getting Squeezed. Eve...  Corporate consolidation and technology have up...  https://www.nytimes.com/2024/09/15/business/ec...  2024-09-15T09:02:26+0000  Business Day    Economy         neutral         0.606073\n",
            "3434   The White House Will Be Shedding Its Union Label  After gains by organized labor under President...  https://www.nytimes.com/2024/11/10/business/ec...  2024-11-10T10:03:52+0000  Business Day    Economy         neutral         0.715337\n",
            "3459  Labor Secretary Pick Is Rep. Lori Chavez-DeRem...  moderate from swing district she received endo...  https://www.nytimes.com/2024/11/22/business/ec...  2024-11-23T02:25:30+0000  Business Day    Economy        negative         0.597741\n",
            "\n",
            "[235 rows x 8 columns]\n",
            "                                                  title                                            snippet                                                url            published_date section subsection sentiment_label  sentiment_score\n",
            "0     An Ice Cream Mogul and His Fellow Burlingtonia...  In liberal enclave fiercely loyal to Bernie Sa...  https://www.nytimes.com/politics/first-draft/2...  2016-01-07T23:04:26+0000    U.S.   Politics        negative         0.757460\n",
            "1     Bill Clinton, Back in Iowa, Refuses to Respond...  Bill Clinton returned to the campaign trail in...  https://www.nytimes.com/politics/first-draft/2...  2016-01-07T22:49:18+0000    U.S.   Politics         neutral         0.789728\n",
            "2               Donald Trump Brings Gridlock to Vermont  Donald Trump brought gridlock to Burlington Vt...  https://www.nytimes.com/politics/first-draft/2...  2016-01-07T22:23:31+0000    U.S.   Politics        negative         0.942191\n",
            "3     Ad Wars of 2016 Campaign Erupt in a Changing T...  Candidates and the outside groups supporting t...  https://www.nytimes.com/2016/01/08/us/politics...  2016-01-07T22:13:10+0000    U.S.   Politics         neutral         0.765094\n",
            "4     Ted Cruz’s Iowa Bus Tour: Using ‘Star Wars’ to...  Ted Cruz said that the new Star Wars movie was...  https://www.nytimes.com/politics/first-draft/2...  2016-01-07T21:56:16+0000    U.S.   Politics         neutral         0.830147\n",
            "...                                                 ...                                                ...                                                ...                       ...     ...        ...             ...              ...\n",
            "3454  They Investigated Pandemic Fraud, Then Earned ...  Some private citizens are hunting for potentia...  https://www.nytimes.com/2024/11/23/us/politics...  2024-11-23T10:00:55+0000    U.S.   Politics         neutral         0.490090\n",
            "3455  Trump’s Trade Agenda Could Benefit Friends and...  Donald Trump has record of pardoning favored c...  https://www.nytimes.com/2024/11/23/us/politics...  2024-11-23T10:00:44+0000    U.S.   Politics         neutral         0.690406\n",
            "3456  Trump Chooses New York Doctor to Be Next U.S. ...  Dr Janette Nesheiwat is medical director for c...  https://www.nytimes.com/2024/11/23/us/politics...  2024-11-23T05:40:43+0000    U.S.   Politics         neutral         0.930785\n",
            "3457  Trump Picks Scott Turner, Little-Known Officia...  The housing agency plays central role in addre...  https://www.nytimes.com/2024/11/22/us/politics...  2024-11-23T03:43:49+0000    U.S.   Politics         neutral         0.799425\n",
            "3458  Sebastian Gorka to Return to White House as Ad...  In statement Donald Trump lauded the firebrand...  https://www.nytimes.com/2024/11/22/us/politics...  2024-11-23T03:03:37+0000    U.S.   Politics         neutral         0.634317\n",
            "\n",
            "[3225 rows x 8 columns]\n"
          ]
        },
        {
          "output_type": "stream",
          "name": "stderr",
          "text": [
            "<ipython-input-72-066e08b32d77>:22: SettingWithCopyWarning: \n",
            "A value is trying to be set on a copy of a slice from a DataFrame.\n",
            "Try using .loc[row_indexer,col_indexer] = value instead\n",
            "\n",
            "See the caveats in the documentation: https://pandas.pydata.org/pandas-docs/stable/user_guide/indexing.html#returning-a-view-versus-a-copy\n",
            "  politicsdf['snippet'] = politicsdf['snippet'].apply(clean_snippet)\n"
          ]
        }
      ]
    },
    {
      "cell_type": "code",
      "source": [
        "import tqdm\n",
        "\n",
        "from sklearn.feature_extraction.text import TfidfVectorizer\n",
        "\n",
        "# Convert text to TF-IDF features\n",
        "vectorizer = TfidfVectorizer(max_features=5000, max_df=0.9, min_df=10, stop_words=stop_words)\n",
        "tfidf_matrix = vectorizer.fit_transform(dataframe['snippet'])\n"
      ],
      "metadata": {
        "id": "_qP0Ibc8gI2w"
      },
      "execution_count": 73,
      "outputs": []
    },
    {
      "cell_type": "code",
      "source": [
        "from sentence_transformers import SentenceTransformer\n",
        "\n",
        "# Load a pre-trained SentenceTransformer model\n",
        "model = SentenceTransformer('all-MiniLM-L6-v2')\n",
        "\n",
        "# Generate sentence embeddings\n",
        "embeddings = model.encode(dataframe['snippet'].tolist(), show_progress_bar=True)"
      ],
      "metadata": {
        "colab": {
          "base_uri": "https://localhost:8080/",
          "height": 49,
          "referenced_widgets": [
            "17d850da57724879b81323aa67457812",
            "fffc57c58fec419fab1b931d3ddf2d57",
            "f4c19c07047345e59a79d64c5931f273",
            "07474ebe27d74614bd77af46d7ab3eb5",
            "ac5e2aa0ba664234b226fc4b49ffe374",
            "3792de70edc14cd68238e164d518037d",
            "4acef26b74834adfa538aec415e6843d",
            "21fff3e987384c23a2d73a5e33362aef",
            "00f1d337ecc948658886a452610386ab",
            "d12061ef99414e8fad467238802740ce",
            "6ed666858ba945f88782c03381199e57"
          ]
        },
        "id": "stlg5vwhgKTt",
        "outputId": "437d2a66-82ec-4536-9c6e-7d9bc1fed7ba"
      },
      "execution_count": 74,
      "outputs": [
        {
          "output_type": "display_data",
          "data": {
            "text/plain": [
              "Batches:   0%|          | 0/101 [00:00<?, ?it/s]"
            ],
            "application/vnd.jupyter.widget-view+json": {
              "version_major": 2,
              "version_minor": 0,
              "model_id": "17d850da57724879b81323aa67457812"
            }
          },
          "metadata": {}
        }
      ]
    },
    {
      "cell_type": "code",
      "source": [
        "from sklearn.cluster import DBSCAN\n",
        "\n",
        "# Perform DBSCAN\n",
        "dbscan = DBSCAN(eps=0.5, min_samples=5, metric='cosine')\n",
        "labels = dbscan.fit_predict(embeddings)\n",
        "\n",
        "# Add cluster labels to the DataFrame\n",
        "dataframe['cluster'] = labels\n",
        "print(dataframe)"
      ],
      "metadata": {
        "colab": {
          "base_uri": "https://localhost:8080/"
        },
        "id": "WUkXpOh2kfg6",
        "outputId": "9390b982-815c-4cb4-ee82-b8af7f5d5a5f"
      },
      "execution_count": 75,
      "outputs": [
        {
          "output_type": "stream",
          "name": "stdout",
          "text": [
            "                                                  title                                            snippet                                                url            published_date section subsection sentiment_label  sentiment_score  cluster\n",
            "0     An Ice Cream Mogul and His Fellow Burlingtonia...  In liberal enclave fiercely loyal to Bernie Sa...  https://www.nytimes.com/politics/first-draft/2...  2016-01-07T23:04:26+0000    U.S.   Politics        negative         0.757460        0\n",
            "1     Bill Clinton, Back in Iowa, Refuses to Respond...  Bill Clinton returned to the campaign trail in...  https://www.nytimes.com/politics/first-draft/2...  2016-01-07T22:49:18+0000    U.S.   Politics         neutral         0.789728        0\n",
            "2               Donald Trump Brings Gridlock to Vermont  Donald Trump brought gridlock to Burlington Vt...  https://www.nytimes.com/politics/first-draft/2...  2016-01-07T22:23:31+0000    U.S.   Politics        negative         0.942191       -1\n",
            "3     Ad Wars of 2016 Campaign Erupt in a Changing T...  Candidates and the outside groups supporting t...  https://www.nytimes.com/2016/01/08/us/politics...  2016-01-07T22:13:10+0000    U.S.   Politics         neutral         0.765094        0\n",
            "4     Ted Cruz’s Iowa Bus Tour: Using ‘Star Wars’ to...  Ted Cruz said that the new Star Wars movie was...  https://www.nytimes.com/politics/first-draft/2...  2016-01-07T21:56:16+0000    U.S.   Politics         neutral         0.830147       -1\n",
            "...                                                 ...                                                ...                                                ...                       ...     ...        ...             ...              ...      ...\n",
            "3454  They Investigated Pandemic Fraud, Then Earned ...  Some private citizens are hunting for potentia...  https://www.nytimes.com/2024/11/23/us/politics...  2024-11-23T10:00:55+0000    U.S.   Politics         neutral         0.490090       -1\n",
            "3455  Trump’s Trade Agenda Could Benefit Friends and...  Donald Trump has record of pardoning favored c...  https://www.nytimes.com/2024/11/23/us/politics...  2024-11-23T10:00:44+0000    U.S.   Politics         neutral         0.690406        0\n",
            "3456  Trump Chooses New York Doctor to Be Next U.S. ...  Dr Janette Nesheiwat is medical director for c...  https://www.nytimes.com/2024/11/23/us/politics...  2024-11-23T05:40:43+0000    U.S.   Politics         neutral         0.930785       -1\n",
            "3457  Trump Picks Scott Turner, Little-Known Officia...  The housing agency plays central role in addre...  https://www.nytimes.com/2024/11/22/us/politics...  2024-11-23T03:43:49+0000    U.S.   Politics         neutral         0.799425       -1\n",
            "3458  Sebastian Gorka to Return to White House as Ad...  In statement Donald Trump lauded the firebrand...  https://www.nytimes.com/2024/11/22/us/politics...  2024-11-23T03:03:37+0000    U.S.   Politics         neutral         0.634317        0\n",
            "\n",
            "[3225 rows x 9 columns]\n"
          ]
        }
      ]
    },
    {
      "cell_type": "code",
      "source": [
        "# Get feature names\n",
        "feature_names = vectorizer.get_feature_names_out()\n",
        "\n",
        "# For each cluster (excluding noise: label `-1`)\n",
        "unique_clusters = set(labels) - {-1}  # Exclude noise\n",
        "for cluster in unique_clusters:\n",
        "    # Find indices for the current cluster\n",
        "    cluster_indices = (dataframe['cluster'] == cluster).values.nonzero()[0]\n",
        "\n",
        "    # Subset the TF-IDF matrix for this cluster\n",
        "    cluster_texts = tfidf_matrix[cluster_indices]\n",
        "\n",
        "    # Sum term frequencies and get top terms\n",
        "    top_terms_indices = np.asarray(cluster_texts.sum(axis=0)).flatten().argsort()[::-1][:10]\n",
        "    top_terms = [feature_names[i] for i in top_terms_indices]\n",
        "\n",
        "    print(f\"Cluster {cluster}: {top_terms}\")"
      ],
      "metadata": {
        "colab": {
          "base_uri": "https://localhost:8080/"
        },
        "id": "nrYTgb1alEhY",
        "outputId": "dbdc2ba3-5670-4b41-c8e8-8d881846e713"
      },
      "execution_count": 76,
      "outputs": [
        {
          "output_type": "stream",
          "name": "stdout",
          "text": [
            "Cluster 0: ['president', 'trump', 'donald', 'house', 'former', 'would', 'new', 'democrats', 'trumps', 'republicans']\n",
            "Cluster 1: ['campaign', 'amid', 'trump', 'brought', 'even', 'government', 'reporter', 'incident', 'charge', 'concerns']\n",
            "Cluster 2: ['education', 'secretary', 'schools', 'private', 'progress', 'school', 'made', 'tough', 'president', 'away']\n",
            "Cluster 3: ['john', 'staff', 'chief', 'needs', 'white', 'willing', 'trump', 'house', 'step', 'military']\n",
            "Cluster 4: ['reserve', 'federal', 'economy', 'economic', 'coronavirus', 'jackson', 'numbers', 'current', 'financial', 'issues']\n",
            "Cluster 5: ['afghanistan', 'veterans', 'summer', 'got', 'biden', 'three', 'year', 'president', 'fought', 'prominent']\n",
            "Cluster 6: ['governor', 'gov', 'virginia', 'sexual', 'assault', 'past', 'demands', 'school', 'medical', 'months']\n"
          ]
        }
      ]
    },
    {
      "cell_type": "code",
      "source": [
        "econcat = {\"0\": 1.3, \"1\": 1.1, \"-1\": 0.7}\n",
        "polcat = {\"0\": 0.8, \"1\":0.6, \"2\":0.4, \"3\": 0.7, \"4\": 1.3, \"5\": 0.9, \"6\": 0.5, \"-1\": 0.3}\n",
        "\n",
        "dataframe['scaling_score'] = dataframe['cluster'].astype(str).map(lambda x: polcat.get(x))\n",
        "# dataframe['scaling_score'] = dataframe['cluster'].astype(str).map(lambda x: econcat.get(x))\n",
        "dataframe['scaled_score'] = dataframe['sentiment_score'] * dataframe['scaling_score']\n",
        "print(dataframe)\n",
        "save_directory = \"/content/drive/My Drive/nyt_articles_pol_sentiment.csv\"\n",
        "# save_directory = \"/content/drive/My Drive/nyt_articles_econ_sentiment.csv\"\n",
        "dataframe.to_csv(save_directory, index=False)"
      ],
      "metadata": {
        "colab": {
          "base_uri": "https://localhost:8080/"
        },
        "id": "FcnvbxhIhj7W",
        "outputId": "56e60bb2-66d9-41c9-bf3e-93c4791c8c0d"
      },
      "execution_count": 77,
      "outputs": [
        {
          "output_type": "stream",
          "name": "stdout",
          "text": [
            "                                                  title                                            snippet                                                url            published_date section subsection sentiment_label  sentiment_score  cluster  scaling_score  scaled_score\n",
            "0     An Ice Cream Mogul and His Fellow Burlingtonia...  In liberal enclave fiercely loyal to Bernie Sa...  https://www.nytimes.com/politics/first-draft/2...  2016-01-07T23:04:26+0000    U.S.   Politics        negative         0.757460        0            0.8      0.605968\n",
            "1     Bill Clinton, Back in Iowa, Refuses to Respond...  Bill Clinton returned to the campaign trail in...  https://www.nytimes.com/politics/first-draft/2...  2016-01-07T22:49:18+0000    U.S.   Politics         neutral         0.789728        0            0.8      0.631782\n",
            "2               Donald Trump Brings Gridlock to Vermont  Donald Trump brought gridlock to Burlington Vt...  https://www.nytimes.com/politics/first-draft/2...  2016-01-07T22:23:31+0000    U.S.   Politics        negative         0.942191       -1            0.3      0.282657\n",
            "3     Ad Wars of 2016 Campaign Erupt in a Changing T...  Candidates and the outside groups supporting t...  https://www.nytimes.com/2016/01/08/us/politics...  2016-01-07T22:13:10+0000    U.S.   Politics         neutral         0.765094        0            0.8      0.612075\n",
            "4     Ted Cruz’s Iowa Bus Tour: Using ‘Star Wars’ to...  Ted Cruz said that the new Star Wars movie was...  https://www.nytimes.com/politics/first-draft/2...  2016-01-07T21:56:16+0000    U.S.   Politics         neutral         0.830147       -1            0.3      0.249044\n",
            "...                                                 ...                                                ...                                                ...                       ...     ...        ...             ...              ...      ...            ...           ...\n",
            "3454  They Investigated Pandemic Fraud, Then Earned ...  Some private citizens are hunting for potentia...  https://www.nytimes.com/2024/11/23/us/politics...  2024-11-23T10:00:55+0000    U.S.   Politics         neutral         0.490090       -1            0.3      0.147027\n",
            "3455  Trump’s Trade Agenda Could Benefit Friends and...  Donald Trump has record of pardoning favored c...  https://www.nytimes.com/2024/11/23/us/politics...  2024-11-23T10:00:44+0000    U.S.   Politics         neutral         0.690406        0            0.8      0.552325\n",
            "3456  Trump Chooses New York Doctor to Be Next U.S. ...  Dr Janette Nesheiwat is medical director for c...  https://www.nytimes.com/2024/11/23/us/politics...  2024-11-23T05:40:43+0000    U.S.   Politics         neutral         0.930785       -1            0.3      0.279235\n",
            "3457  Trump Picks Scott Turner, Little-Known Officia...  The housing agency plays central role in addre...  https://www.nytimes.com/2024/11/22/us/politics...  2024-11-23T03:43:49+0000    U.S.   Politics         neutral         0.799425       -1            0.3      0.239828\n",
            "3458  Sebastian Gorka to Return to White House as Ad...  In statement Donald Trump lauded the firebrand...  https://www.nytimes.com/2024/11/22/us/politics...  2024-11-23T03:03:37+0000    U.S.   Politics         neutral         0.634317        0            0.8      0.507453\n",
            "\n",
            "[3225 rows x 11 columns]\n"
          ]
        }
      ]
    },
    {
      "cell_type": "code",
      "source": [
        "econpath = \"/content/drive/My Drive/nyt_articles_econ_sentiment.csv\"\n",
        "econdf = pd.read_csv(econpath, delimiter=\",\")\n",
        "\n",
        "polipath = \"/content/drive/My Drive/nyt_articles_pol_sentiment.csv\"\n",
        "politicsdf = pd.read_csv(polipath, delimiter=\",\")\n",
        "\n",
        "combined_df = pd.concat([econdf, politicsdf], ignore_index=True)\n",
        "print(combined_df)\n",
        "\n",
        "save_directory = \"/content/drive/My Drive/nyt_articles_sentiment_scaled.csv\"\n",
        "combined_df.to_csv(save_directory, index=False)"
      ],
      "metadata": {
        "colab": {
          "base_uri": "https://localhost:8080/"
        },
        "id": "lZcX5ImNnfob",
        "outputId": "673cec1a-6018-48c9-91b0-e0c1c5df729d"
      },
      "execution_count": 78,
      "outputs": [
        {
          "output_type": "stream",
          "name": "stdout",
          "text": [
            "                                                  title                                            snippet                                                url            published_date       section subsection sentiment_label  sentiment_score  cluster  scaling_score  scaled_score\n",
            "0     Federal Reserve Won’t Backpedal on Interest Ra...  Ms Yellen the Fed chairwoman told senators tha...  https://www.nytimes.com/2016/02/12/business/ec...  2016-02-11T19:09:41+0000  Business Day    Economy        positive         0.648025        0            1.3      0.842433\n",
            "1     The Cities on the Sunny Side of the American E...  In places like Denver Seattle and Atlanta empl...  https://www.nytimes.com/2016/04/01/business/ec...  2016-03-31T18:54:38+0000  Business Day    Economy        positive         0.403958        0            1.3      0.525146\n",
            "2                  City by City, Measuring the Recovery  Cities like Denver San Jose Calif and Austin T...  https://www.nytimes.com/interactive/2016/04/01...  2016-03-31T16:50:11+0000  Business Day    Economy        negative         0.823946        0            1.3      1.071130\n",
            "3     Joel Kurtzman, Economist of Gloom Who Shifted ...  Credited with coining the termeconomic headwin...  https://www.nytimes.com/2016/04/08/business/ec...  2016-04-07T20:17:41+0000  Business Day    Economy         neutral         0.694590       -1            0.7      0.486213\n",
            "4     The Recovery’s Two Sides: Weak Growth Even as ...  The trajectory of the economic recovery remain...  https://www.nytimes.com/2016/04/29/business/ec...  2016-04-28T12:33:45+0000  Business Day    Economy        negative         0.454277        0            1.3      0.590560\n",
            "...                                                 ...                                                ...                                                ...                       ...           ...        ...             ...              ...      ...            ...           ...\n",
            "3455  They Investigated Pandemic Fraud, Then Earned ...  Some private citizens are hunting for potentia...  https://www.nytimes.com/2024/11/23/us/politics...  2024-11-23T10:00:55+0000          U.S.   Politics         neutral         0.490090       -1            0.3      0.147027\n",
            "3456  Trump’s Trade Agenda Could Benefit Friends and...  Donald Trump has record of pardoning favored c...  https://www.nytimes.com/2024/11/23/us/politics...  2024-11-23T10:00:44+0000          U.S.   Politics         neutral         0.690406        0            0.8      0.552325\n",
            "3457  Trump Chooses New York Doctor to Be Next U.S. ...  Dr Janette Nesheiwat is medical director for c...  https://www.nytimes.com/2024/11/23/us/politics...  2024-11-23T05:40:43+0000          U.S.   Politics         neutral         0.930785       -1            0.3      0.279235\n",
            "3458  Trump Picks Scott Turner, Little-Known Officia...  The housing agency plays central role in addre...  https://www.nytimes.com/2024/11/22/us/politics...  2024-11-23T03:43:49+0000          U.S.   Politics         neutral         0.799425       -1            0.3      0.239828\n",
            "3459  Sebastian Gorka to Return to White House as Ad...  In statement Donald Trump lauded the firebrand...  https://www.nytimes.com/2024/11/22/us/politics...  2024-11-23T03:03:37+0000          U.S.   Politics         neutral         0.634317        0            0.8      0.507453\n",
            "\n",
            "[3460 rows x 11 columns]\n"
          ]
        }
      ]
    }
  ]
}