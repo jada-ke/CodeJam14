{
  "nbformat": 4,
  "nbformat_minor": 0,
  "metadata": {
    "colab": {
      "provenance": [],
      "authorship_tag": "ABX9TyNd3LJKrKm/qzGJaSkIhEcz",
      "include_colab_link": true
    },
    "kernelspec": {
      "name": "python3",
      "display_name": "Python 3"
    },
    "language_info": {
      "name": "python"
    }
  },
  "cells": [
    {
      "cell_type": "markdown",
      "metadata": {
        "id": "view-in-github",
        "colab_type": "text"
      },
      "source": [
        "<a href=\"https://colab.research.google.com/github/jada-ke/CodeJam14/blob/main/forexData.ipynb\" target=\"_parent\"><img src=\"https://colab.research.google.com/assets/colab-badge.svg\" alt=\"Open In Colab\"/></a>"
      ]
    },
    {
      "cell_type": "markdown",
      "source": [
        "**Mount Google Drive**"
      ],
      "metadata": {
        "id": "NxfocW3TY0sG"
      }
    },
    {
      "cell_type": "code",
      "source": [
        "from google.colab import drive\n",
        "drive.mount('/content/drive')"
      ],
      "metadata": {
        "colab": {
          "base_uri": "https://localhost:8080/"
        },
        "id": "KYNaaTCZbsR-",
        "outputId": "4dc485a8-4756-474b-fce7-cba94aa176fb"
      },
      "execution_count": 1,
      "outputs": [
        {
          "output_type": "stream",
          "name": "stdout",
          "text": [
            "Mounted at /content/drive\n"
          ]
        }
      ]
    },
    {
      "cell_type": "markdown",
      "source": [
        "Confirm filepath existence"
      ],
      "metadata": {
        "id": "d8lZeL9Ggucq"
      }
    },
    {
      "cell_type": "code",
      "source": [
        "import os\n",
        "\n",
        "file_path = \"/content/drive/MyDrive/Ai4Ducks/Hackathon/CodeJam/Data/Collection/forex_data.csv\"\n",
        "if os.path.exists(file_path):\n",
        "    print(\"File exists!\")\n",
        "else:\n",
        "    print(\"File not found!\")\n"
      ],
      "metadata": {
        "colab": {
          "base_uri": "https://localhost:8080/"
        },
        "id": "1Amm35SSfFrk",
        "outputId": "133f214e-8ffb-4991-fd53-da3879740259"
      },
      "execution_count": null,
      "outputs": [
        {
          "output_type": "stream",
          "name": "stdout",
          "text": [
            "File not found!\n"
          ]
        }
      ]
    },
    {
      "cell_type": "markdown",
      "source": [
        "Confirm filepath"
      ],
      "metadata": {
        "id": "pb8tJaEZgm6J"
      }
    },
    {
      "cell_type": "code",
      "source": [
        "!ls /content/drive/MyDrive/Ai4Ducks/hack/CodeJam/Data/Collection\n",
        "\n"
      ],
      "metadata": {
        "id": "ihy4Zy0ifLUA"
      },
      "execution_count": null,
      "outputs": []
    },
    {
      "cell_type": "markdown",
      "source": [
        "# Forex Data Collection <br>\n",
        "Alpha Vantage API: XKZSE3FWFDZL44FP <br>\n",
        "Dates: January 01, 2016 to November 22, 2024 <br>\n",
        "USD/CAD code"
      ],
      "metadata": {
        "id": "RtMkz96gb9mR"
      }
    },
    {
      "cell_type": "markdown",
      "source": [
        "**Refined Version**"
      ],
      "metadata": {
        "id": "y6a3aZtXbLxF"
      }
    },
    {
      "cell_type": "code",
      "source": [
        "import requests\n",
        "import pandas as pd\n",
        "\n",
        "# Alpha Vantage API key\n",
        "API_KEY = \"XKZSE3FWFDZL44FP\"\n",
        "\n",
        "# Forex currency pair: USD/CAD\n",
        "FROM_CURRENCY = \"USD\"\n",
        "TO_CURRENCY = \"CAD\"\n",
        "BASE_URL = \"https://www.alphavantage.co/query\"\n",
        "\n",
        "def fetch_forex_data(api_key, from_currency, to_currency, output_size=\"full\"):\n",
        "    \"\"\"\n",
        "    Fetch historical forex data using Alpha Vantage API.\n",
        "    \"\"\"\n",
        "    params = {\n",
        "        \"function\": \"FX_DAILY\",\n",
        "        \"from_symbol\": from_currency,\n",
        "        \"to_symbol\": to_currency,\n",
        "        \"apikey\": api_key,\n",
        "        \"outputsize\": output_size,\n",
        "        \"datatype\": \"json\",\n",
        "    }\n",
        "    response = requests.get(BASE_URL, params=params)\n",
        "    data = response.json()\n",
        "\n",
        "    # Check if data is available\n",
        "    if \"Time Series FX (Daily)\" in data:\n",
        "        return data[\"Time Series FX (Daily)\"]\n",
        "    else:\n",
        "        raise Exception(f\"Error fetching data: {data.get('Error Message', data)}\")\n",
        "\n",
        "def process_forex_data(raw_data, start_date, end_date):\n",
        "    \"\"\"\n",
        "    Convert raw forex data into a Pandas DataFrame and filter by date range.\n",
        "    \"\"\"\n",
        "    records = []\n",
        "    for date, metrics in raw_data.items():\n",
        "        if start_date <= date <= end_date:  # Filter by date range\n",
        "            records.append({\n",
        "                \"Date\": date,\n",
        "                \"Open\": float(metrics[\"1. open\"]),\n",
        "                \"High\": float(metrics[\"2. high\"]),\n",
        "                \"Low\": float(metrics[\"3. low\"]),\n",
        "                \"Close\": float(metrics[\"4. close\"]),\n",
        "            })\n",
        "    df = pd.DataFrame(records)\n",
        "    df[\"Date\"] = pd.to_datetime(df[\"Date\"])\n",
        "    df.sort_values(\"Date\", inplace=True)  # Sort by date\n",
        "    return df\n",
        "\n",
        "# Main function to fetch and process forex data\n",
        "def main():\n",
        "    # Define date range\n",
        "    start_date = \"2016-01-01\"\n",
        "    end_date = \"2024-11-22\"\n",
        "\n",
        "    # Fetch forex data\n",
        "    print(\"Fetching forex data...\")\n",
        "    raw_forex_data = fetch_forex_data(API_KEY, FROM_CURRENCY, TO_CURRENCY)\n",
        "\n",
        "    # Process forex data\n",
        "    print(\"Processing forex data...\")\n",
        "    forex_df = process_forex_data(raw_forex_data, start_date, end_date)\n",
        "\n",
        "    # Save to CSV for further use\n",
        "    output_path = \"/content/drive/MyDrive/Ai4Ducks/hack/CodeJam/Data/Correction/Retrieved/forex_data.csv\"\n",
        "    forex_df.to_csv(output_path, index=False)\n",
        "    print(f\"Filtered forex data saved to {output_path}\")\n",
        "\n",
        "    return forex_df\n",
        "\n",
        "# Run the script\n",
        "if __name__ == \"__main__\":\n",
        "    forex_data = main()\n",
        "    print(forex_data.head())\n"
      ],
      "metadata": {
        "colab": {
          "base_uri": "https://localhost:8080/"
        },
        "id": "SlgKYrR-Nhyq",
        "outputId": "9e5c521b-aba0-429a-9e9b-1318a2475345"
      },
      "execution_count": 13,
      "outputs": [
        {
          "output_type": "stream",
          "name": "stdout",
          "text": [
            "Fetching forex data...\n",
            "Processing forex data...\n",
            "Filtered forex data saved to /content/drive/MyDrive/Ai4Ducks/hack/CodeJam/Data/Correction/Retrieved/forex_data.csv\n",
            "           Date     Open     High      Low    Close\n",
            "2317 2016-01-03  1.38737  1.39400  1.38480  1.38645\n",
            "2316 2016-01-04  1.39363  1.39817  1.38960  1.39343\n",
            "2315 2016-01-05  1.39874  1.41079  1.39790  1.39840\n",
            "2314 2016-01-06  1.40660  1.41689  1.40520  1.40676\n",
            "2313 2016-01-07  1.41033  1.41492  1.40613  1.41020\n"
          ]
        }
      ]
    },
    {
      "cell_type": "markdown",
      "source": [
        "CAD/USD code (version 2)"
      ],
      "metadata": {
        "id": "oewJY6Doa6YT"
      }
    },
    {
      "cell_type": "code",
      "source": [
        "import requests\n",
        "import pandas as pd\n",
        "from datetime import datetime, timedelta\n",
        "\n",
        "# Alpha Vantage API key\n",
        "API_KEY = \"XKZSE3FWFDZL44FP\"\n",
        "\n",
        "# CAD/USD\n",
        "FROM_CURRENCY = \"CAD\"\n",
        "TO_CURRENCY = \"USD\"\n",
        "BASE_URL = \"https://www.alphavantage.co/query\"\n",
        "\n",
        "# Fetch forex data\n",
        "def fetch_forex_data(api_key, from_currency, to_currency, output_size=\"full\"):\n",
        "    \"\"\"\n",
        "    Fetch historical forex data using Alpha Vantage API.\n",
        "    \"\"\"\n",
        "    params = {\n",
        "        \"function\": \"FX_DAILY\",\n",
        "        \"from_symbol\": from_currency,\n",
        "        \"to_symbol\": to_currency,\n",
        "        \"apikey\": api_key,\n",
        "        \"outputsize\": output_size,\n",
        "        \"datatype\": \"json\",\n",
        "    }\n",
        "    response = requests.get(BASE_URL, params=params)\n",
        "    data = response.json()\n",
        "    if \"Time Series FX (Daily)\" in data:\n",
        "        return data[\"Time Series FX (Daily)\"]\n",
        "    else:\n",
        "        raise Exception(f\"Error fetching data: {data.get('Error Message', data)}\")\n",
        "\n",
        "# Convert the data to a DataFrame\n",
        "def process_forex_data(raw_data):\n",
        "    \"\"\"\n",
        "    Convert raw forex data to a Pandas DataFrame.\n",
        "    \"\"\"\n",
        "    records = []\n",
        "    for date, metrics in raw_data.items():\n",
        "        record = {\n",
        "            \"Date\": date,\n",
        "            \"Open\": float(metrics[\"1. open\"]),\n",
        "            \"High\": float(metrics[\"2. high\"]),\n",
        "            \"Low\": float(metrics[\"3. low\"]),\n",
        "            \"Close\": float(metrics[\"4. close\"]),\n",
        "        }\n",
        "        records.append(record)\n",
        "    df = pd.DataFrame(records)\n",
        "    df[\"Date\"] = pd.to_datetime(df[\"Date\"])\n",
        "    return df\n",
        "\n",
        "# Save DataFrame to CSV\n",
        "def save_to_csv(df, file_path):\n",
        "    \"\"\"\n",
        "    Save the DataFrame to a CSV file.\n",
        "    \"\"\"\n",
        "    df.to_csv(file_path, index=False)\n",
        "    print(f\"Data saved to {file_path}\")\n",
        "\n",
        "# Main Script\n",
        "if __name__ == \"__main__\":\n",
        "    raw_data = fetch_forex_data(API_KEY, FROM_CURRENCY, TO_CURRENCY)\n",
        "    forex_df = process_forex_data(raw_data)\n",
        "\n",
        "    # Define file path\n",
        "    file_path = \"/content/drive/MyDrive/Ai4Ducks/hack/CodeJam/Data/Correction/forex_data2.csv\"\n",
        "\n",
        "    # Save to CSV\n",
        "    save_to_csv(forex_df, file_path)\n"
      ],
      "metadata": {
        "colab": {
          "base_uri": "https://localhost:8080/"
        },
        "id": "L2ums2pehgrf",
        "outputId": "9a746f86-1712-45b8-897e-5bf280751618"
      },
      "execution_count": 12,
      "outputs": [
        {
          "output_type": "stream",
          "name": "stdout",
          "text": [
            "Data saved to /content/drive/MyDrive/Ai4Ducks/hack/CodeJam/Data/Correction/forex_data2.csv\n"
          ]
        }
      ]
    }
  ]
}