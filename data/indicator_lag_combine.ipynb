{
  "nbformat": 4,
  "nbformat_minor": 0,
  "metadata": {
    "colab": {
      "provenance": []
    },
    "kernelspec": {
      "name": "python3",
      "display_name": "Python 3"
    },
    "language_info": {
      "name": "python"
    }
  },
  "cells": [
    {
      "cell_type": "code",
      "execution_count": 18,
      "metadata": {
        "colab": {
          "base_uri": "https://localhost:8080/"
        },
        "id": "_0CyrFrsM4_f",
        "outputId": "70131d59-b3eb-461c-dbe5-275807ec1e13"
      },
      "outputs": [
        {
          "output_type": "stream",
          "name": "stdout",
          "text": [
            "Drive already mounted at /content/drive/; to attempt to forcibly remount, call drive.mount(\"/content/drive/\", force_remount=True).\n"
          ]
        }
      ],
      "source": [
        "from google.colab import drive\n",
        "drive.mount('/content/drive/')"
      ]
    },
    {
      "cell_type": "code",
      "source": [
        "import pandas as pd\n",
        "import numpy as np"
      ],
      "metadata": {
        "id": "aSq9wwJZM8gm"
      },
      "execution_count": 19,
      "outputs": []
    },
    {
      "cell_type": "code",
      "source": [
        "article_sentiment_path = \"/content/drive/My Drive/weekly_sentiment_lag.csv\"\n",
        "article_sentiment = pd.read_csv(article_sentiment_path)\n",
        "\n",
        "market_data_path = \"/content/drive/My Drive/Master.csv\"\n",
        "market_data = pd.read_csv(market_data_path)\n",
        "\n",
        "pd.set_option('display.max_columns',1000)\n",
        "pd.set_option('display.width',10000)\n",
        "\n",
        "print(article_sentiment)\n",
        "print(market_data)"
      ],
      "metadata": {
        "colab": {
          "base_uri": "https://localhost:8080/"
        },
        "id": "pRbOzXvIXTQC",
        "outputId": "8902dae0-e6eb-4dcb-8455-29fc6bfb4bf0"
      },
      "execution_count": 20,
      "outputs": [
        {
          "output_type": "stream",
          "name": "stdout",
          "text": [
            "     Start Date    End Date  Sentiment Score  sentiment_weighted_lag_1  sentiment_weighted_lag_2  sentiment_weighted_lag_3\n",
            "0    2016-01-04  2016-01-10         0.505057                  0.454551                  0.409096                  0.368186\n",
            "1    2016-01-11  2016-01-17         0.443757                  0.454551                  0.409096                  0.368186\n",
            "2    2016-01-18  2016-01-24         0.556918                  0.399381                  0.409096                  0.368186\n",
            "3    2016-01-25  2016-01-31         0.425082                  0.501226                  0.359443                  0.368186\n",
            "4    2016-02-01  2016-02-07         0.505660                  0.382574                  0.451103                  0.323499\n",
            "..          ...         ...              ...                       ...                       ...                       ...\n",
            "341  2024-10-21  2024-10-27         0.528765                  0.470155                  0.481904                  0.328837\n",
            "342  2024-10-28  2024-11-03         0.561272                  0.475889                  0.423140                  0.433714\n",
            "343  2024-11-04  2024-11-10         0.513694                  0.505145                  0.428300                  0.380826\n",
            "344  2024-11-11  2024-11-17         0.432878                  0.462325                  0.454630                  0.385470\n",
            "345  2024-11-18  2024-11-24         0.428538                  0.389590                  0.416092                  0.409167\n",
            "\n",
            "[346 rows x 6 columns]\n",
            "            Date     Open     High      Low    Close   GDP USD   GDP CAD  Interest Rate USD Interest Rate CAD  CPI USD  CPI CAD\n",
            "0     2016-01-03  1.38737  1.39400  1.38480  1.38645  0.579519  0.591684               0.34              0.50  237.652    126.8\n",
            "1     2016-01-04  1.39363  1.39817  1.38960  1.39343  0.579519  0.591684               0.34              0.50  237.652    126.8\n",
            "2     2016-01-05  1.39874  1.41079  1.39790  1.39840  0.579519  0.591684               0.34              0.50  237.652    126.8\n",
            "3     2016-01-06  1.40660  1.41689  1.40520  1.40676  0.579519  0.591684               0.34              0.50  237.652    126.8\n",
            "4     2016-01-07  1.41033  1.41492  1.40613  1.41020  0.579519  0.591684               0.34              0.50  237.652    126.8\n",
            "...          ...      ...      ...      ...      ...       ...       ...                ...               ...      ...      ...\n",
            "2313  2024-11-18  1.40224  1.40355  1.39687  1.40224  0.235510  0.699122               4.83              3.75  315.454    161.8\n",
            "2314  2024-11-19  1.39550  1.40129  1.39490  1.39550  0.235510  0.699122               4.83              3.75  315.454    161.8\n",
            "2315  2024-11-20  1.39680  1.39775  1.39324  1.39680  0.235510  0.699122               4.83              3.75  315.454    161.8\n",
            "2316  2024-11-21  1.39800  1.40167  1.39591  1.39800  0.235510  0.699122               4.83              3.75  315.454    161.8\n",
            "2317  2024-11-22  1.39747  1.40209  1.39530  1.39801  0.235510  0.699122               4.83              3.75  315.454    161.8\n",
            "\n",
            "[2318 rows x 11 columns]\n"
          ]
        }
      ]
    },
    {
      "cell_type": "code",
      "source": [
        "\n",
        "\n",
        "market_data.set_index('Date', inplace=True)\n",
        "\n",
        "for col in ['GDP USD', 'GDP CAD', 'Interest Rate USD', 'Interest Rate CAD', 'CPI USD', 'CPI CAD']:\n",
        "    for lag in range(1, 4):  # Lag 1 to 3 quarters\n",
        "        market_data[f'{col}_Lag_{lag}'] = market_data[col].shift(lag * 90)\n",
        "\n",
        "market_data.reset_index(inplace=True)\n",
        "market_data.bfill(inplace=True)\n",
        "\n",
        "print(market_data)\n"
      ],
      "metadata": {
        "colab": {
          "base_uri": "https://localhost:8080/"
        },
        "id": "RwieEftDb-2n",
        "outputId": "758eaeec-67b8-4342-90bf-49de766b449f"
      },
      "execution_count": 21,
      "outputs": [
        {
          "output_type": "stream",
          "name": "stdout",
          "text": [
            "            Date     Open     High      Low    Close   GDP USD   GDP CAD  Interest Rate USD Interest Rate CAD  CPI USD  CPI CAD  GDP USD_Lag_1  GDP USD_Lag_2  GDP USD_Lag_3  GDP CAD_Lag_1  GDP CAD_Lag_2  GDP CAD_Lag_3  Interest Rate USD_Lag_1  Interest Rate USD_Lag_2  Interest Rate USD_Lag_3 Interest Rate CAD_Lag_1 Interest Rate CAD_Lag_2 Interest Rate CAD_Lag_3  CPI USD_Lag_1  CPI USD_Lag_2  CPI USD_Lag_3  CPI CAD_Lag_1  CPI CAD_Lag_2  CPI CAD_Lag_3\n",
            "0     2016-01-03  1.38737  1.39400  1.38480  1.38645  0.579519  0.591684               0.34              0.50  237.652    126.8       0.579519       0.579519       0.579519       0.591684       0.591684       0.591684                     0.34                     0.34                     0.34                    0.50                    0.50                    0.50        237.652        237.652        237.652          126.8          126.8          126.8\n",
            "1     2016-01-04  1.39363  1.39817  1.38960  1.39343  0.579519  0.591684               0.34              0.50  237.652    126.8       0.579519       0.579519       0.579519       0.591684       0.591684       0.591684                     0.34                     0.34                     0.34                    0.50                    0.50                    0.50        237.652        237.652        237.652          126.8          126.8          126.8\n",
            "2     2016-01-05  1.39874  1.41079  1.39790  1.39840  0.579519  0.591684               0.34              0.50  237.652    126.8       0.579519       0.579519       0.579519       0.591684       0.591684       0.591684                     0.34                     0.34                     0.34                    0.50                    0.50                    0.50        237.652        237.652        237.652          126.8          126.8          126.8\n",
            "3     2016-01-06  1.40660  1.41689  1.40520  1.40676  0.579519  0.591684               0.34              0.50  237.652    126.8       0.579519       0.579519       0.579519       0.591684       0.591684       0.591684                     0.34                     0.34                     0.34                    0.50                    0.50                    0.50        237.652        237.652        237.652          126.8          126.8          126.8\n",
            "4     2016-01-07  1.41033  1.41492  1.40613  1.41020  0.579519  0.591684               0.34              0.50  237.652    126.8       0.579519       0.579519       0.579519       0.591684       0.591684       0.591684                     0.34                     0.34                     0.34                    0.50                    0.50                    0.50        237.652        237.652        237.652          126.8          126.8          126.8\n",
            "...          ...      ...      ...      ...      ...       ...       ...                ...               ...      ...      ...            ...            ...            ...            ...            ...            ...                      ...                      ...                      ...                     ...                     ...                     ...            ...            ...            ...            ...            ...            ...\n",
            "2313  2024-11-18  1.40224  1.40355  1.39687  1.40224  0.235510  0.699122               4.83              3.75  315.454    161.8       0.235510       0.311258       0.838405       0.699122       0.413272       0.018509                     5.33                     5.33                     5.33                    4.75                    5.00                    5.00        313.534        312.230        308.024          162.1          159.8          158.8\n",
            "2314  2024-11-19  1.39550  1.40129  1.39490  1.39550  0.235510  0.699122               4.83              3.75  315.454    161.8       0.235510       0.311258       0.838405       0.699122       0.413272       0.018509                     5.33                     5.33                     5.33                    4.75                    5.00                    5.00        313.534        312.230        308.024          162.1          159.8          158.8\n",
            "2315  2024-11-20  1.39680  1.39775  1.39324  1.39680  0.235510  0.699122               4.83              3.75  315.454    161.8       0.235510       0.311258       0.838405       0.699122       0.413272       0.018509                     5.33                     5.33                     5.33                    4.75                    5.00                    5.00        313.534        312.230        308.024          162.1          159.8          158.8\n",
            "2316  2024-11-21  1.39800  1.40167  1.39591  1.39800  0.235510  0.699122               4.83              3.75  315.454    161.8       0.235510       0.311258       0.838405       0.699122       0.413272       0.018509                     5.33                     5.33                     5.33                    4.75                    5.00                    5.00        313.534        312.230        308.024          162.1          159.8          158.8\n",
            "2317  2024-11-22  1.39747  1.40209  1.39530  1.39801  0.235510  0.699122               4.83              3.75  315.454    161.8       0.235510       0.311258       0.838405       0.699122       0.413272       0.018509                     5.33                     5.33                     5.33                    4.75                    5.00                    5.00        313.534        312.230        308.024          162.1          159.8          158.8\n",
            "\n",
            "[2318 rows x 29 columns]\n"
          ]
        }
      ]
    },
    {
      "cell_type": "code",
      "source": [
        "\n",
        "\n",
        "sentiment_columns = ['Sentiment Score', 'sentiment_weighted_lag_1', 'sentiment_weighted_lag_2', 'sentiment_weighted_lag_3']\n",
        "for col in sentiment_columns:\n",
        "    market_data[col] = None\n",
        "\n",
        "for i, row in market_data.iterrows():\n",
        "    date = row['Date']\n",
        "    # Find the corresponding sentiment row\n",
        "    matching_row = article_sentiment[(article_sentiment['Start Date'] <= date) & (article_sentiment['End Date'] >= date)]\n",
        "    if not matching_row.empty:\n",
        "        for col in sentiment_columns:\n",
        "            market_data.at[i, col] = matching_row.iloc[0][col]\n",
        "\n",
        "market_data.bfill(inplace=True)\n",
        "\n",
        "print(market_data)\n",
        "\n",
        "save_directory = \"/content/drive/My Drive/CombinedFinal.csv\"\n",
        "market_data.to_csv(save_directory, index=False)"
      ],
      "metadata": {
        "colab": {
          "base_uri": "https://localhost:8080/"
        },
        "id": "g1u5PJDofXR0",
        "outputId": "724b51b6-1670-468e-d35d-774d7389093e"
      },
      "execution_count": 22,
      "outputs": [
        {
          "output_type": "stream",
          "name": "stdout",
          "text": [
            "            Date     Open     High      Low    Close   GDP USD   GDP CAD  Interest Rate USD Interest Rate CAD  CPI USD  CPI CAD  GDP USD_Lag_1  GDP USD_Lag_2  GDP USD_Lag_3  GDP CAD_Lag_1  GDP CAD_Lag_2  GDP CAD_Lag_3  Interest Rate USD_Lag_1  Interest Rate USD_Lag_2  Interest Rate USD_Lag_3 Interest Rate CAD_Lag_1 Interest Rate CAD_Lag_2 Interest Rate CAD_Lag_3  CPI USD_Lag_1  CPI USD_Lag_2  CPI USD_Lag_3  CPI CAD_Lag_1  CPI CAD_Lag_2  CPI CAD_Lag_3  Sentiment Score  sentiment_weighted_lag_1  sentiment_weighted_lag_2  sentiment_weighted_lag_3\n",
            "0     2016-01-03  1.38737  1.39400  1.38480  1.38645  0.579519  0.591684               0.34              0.50  237.652    126.8       0.579519       0.579519       0.579519       0.591684       0.591684       0.591684                     0.34                     0.34                     0.34                    0.50                    0.50                    0.50        237.652        237.652        237.652          126.8          126.8          126.8         0.505057                  0.454551                  0.409096                  0.368186\n",
            "1     2016-01-04  1.39363  1.39817  1.38960  1.39343  0.579519  0.591684               0.34              0.50  237.652    126.8       0.579519       0.579519       0.579519       0.591684       0.591684       0.591684                     0.34                     0.34                     0.34                    0.50                    0.50                    0.50        237.652        237.652        237.652          126.8          126.8          126.8         0.505057                  0.454551                  0.409096                  0.368186\n",
            "2     2016-01-05  1.39874  1.41079  1.39790  1.39840  0.579519  0.591684               0.34              0.50  237.652    126.8       0.579519       0.579519       0.579519       0.591684       0.591684       0.591684                     0.34                     0.34                     0.34                    0.50                    0.50                    0.50        237.652        237.652        237.652          126.8          126.8          126.8         0.505057                  0.454551                  0.409096                  0.368186\n",
            "3     2016-01-06  1.40660  1.41689  1.40520  1.40676  0.579519  0.591684               0.34              0.50  237.652    126.8       0.579519       0.579519       0.579519       0.591684       0.591684       0.591684                     0.34                     0.34                     0.34                    0.50                    0.50                    0.50        237.652        237.652        237.652          126.8          126.8          126.8         0.505057                  0.454551                  0.409096                  0.368186\n",
            "4     2016-01-07  1.41033  1.41492  1.40613  1.41020  0.579519  0.591684               0.34              0.50  237.652    126.8       0.579519       0.579519       0.579519       0.591684       0.591684       0.591684                     0.34                     0.34                     0.34                    0.50                    0.50                    0.50        237.652        237.652        237.652          126.8          126.8          126.8         0.505057                  0.454551                  0.409096                  0.368186\n",
            "...          ...      ...      ...      ...      ...       ...       ...                ...               ...      ...      ...            ...            ...            ...            ...            ...            ...                      ...                      ...                      ...                     ...                     ...                     ...            ...            ...            ...            ...            ...            ...              ...                       ...                       ...                       ...\n",
            "2313  2024-11-18  1.40224  1.40355  1.39687  1.40224  0.235510  0.699122               4.83              3.75  315.454    161.8       0.235510       0.311258       0.838405       0.699122       0.413272       0.018509                     5.33                     5.33                     5.33                    4.75                    5.00                    5.00        313.534        312.230        308.024          162.1          159.8          158.8         0.428538                  0.389590                  0.416092                  0.409167\n",
            "2314  2024-11-19  1.39550  1.40129  1.39490  1.39550  0.235510  0.699122               4.83              3.75  315.454    161.8       0.235510       0.311258       0.838405       0.699122       0.413272       0.018509                     5.33                     5.33                     5.33                    4.75                    5.00                    5.00        313.534        312.230        308.024          162.1          159.8          158.8         0.428538                  0.389590                  0.416092                  0.409167\n",
            "2315  2024-11-20  1.39680  1.39775  1.39324  1.39680  0.235510  0.699122               4.83              3.75  315.454    161.8       0.235510       0.311258       0.838405       0.699122       0.413272       0.018509                     5.33                     5.33                     5.33                    4.75                    5.00                    5.00        313.534        312.230        308.024          162.1          159.8          158.8         0.428538                  0.389590                  0.416092                  0.409167\n",
            "2316  2024-11-21  1.39800  1.40167  1.39591  1.39800  0.235510  0.699122               4.83              3.75  315.454    161.8       0.235510       0.311258       0.838405       0.699122       0.413272       0.018509                     5.33                     5.33                     5.33                    4.75                    5.00                    5.00        313.534        312.230        308.024          162.1          159.8          158.8         0.428538                  0.389590                  0.416092                  0.409167\n",
            "2317  2024-11-22  1.39747  1.40209  1.39530  1.39801  0.235510  0.699122               4.83              3.75  315.454    161.8       0.235510       0.311258       0.838405       0.699122       0.413272       0.018509                     5.33                     5.33                     5.33                    4.75                    5.00                    5.00        313.534        312.230        308.024          162.1          159.8          158.8         0.428538                  0.389590                  0.416092                  0.409167\n",
            "\n",
            "[2318 rows x 33 columns]\n"
          ]
        },
        {
          "output_type": "stream",
          "name": "stderr",
          "text": [
            "<ipython-input-22-e278b1dfa86b>:13: FutureWarning: Downcasting object dtype arrays on .fillna, .ffill, .bfill is deprecated and will change in a future version. Call result.infer_objects(copy=False) instead. To opt-in to the future behavior, set `pd.set_option('future.no_silent_downcasting', True)`\n",
            "  market_data.bfill(inplace=True)\n"
          ]
        }
      ]
    }
  ]
}