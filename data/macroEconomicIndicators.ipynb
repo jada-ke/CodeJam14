{
  "nbformat": 4,
  "nbformat_minor": 0,
  "metadata": {
    "colab": {
      "provenance": [],
      "toc_visible": true,
      "authorship_tag": "ABX9TyPPqDLz+h5gPKApZl89BLRB",
      "include_colab_link": true
    },
    "kernelspec": {
      "name": "python3",
      "display_name": "Python 3"
    },
    "language_info": {
      "name": "python"
    }
  },
  "cells": [
    {
      "cell_type": "markdown",
      "metadata": {
        "id": "view-in-github",
        "colab_type": "text"
      },
      "source": [
        "<a href=\"https://colab.research.google.com/github/jada-ke/CodeJam14/blob/main/macroEconomicIndicators.ipynb\" target=\"_parent\"><img src=\"https://colab.research.google.com/assets/colab-badge.svg\" alt=\"Open In Colab\"/></a>"
      ]
    },
    {
      "cell_type": "markdown",
      "source": [
        "**Mount Google Drive**"
      ],
      "metadata": {
        "id": "MX8an51J8PZw"
      }
    },
    {
      "cell_type": "code",
      "execution_count": null,
      "metadata": {
        "colab": {
          "base_uri": "https://localhost:8080/"
        },
        "id": "cpNXGVhLkV3z",
        "outputId": "bfa68fdd-3c11-4ec1-f33f-6328013fcdbe"
      },
      "outputs": [
        {
          "output_type": "stream",
          "name": "stdout",
          "text": [
            "Mounted at /content/drive\n"
          ]
        }
      ],
      "source": [
        "from google.colab import drive\n",
        "drive.mount('/content/drive')"
      ]
    },
    {
      "cell_type": "markdown",
      "source": [
        "# GDP Data Collection <br>\n",
        "**Source**: OECD <br>\n",
        "**Dates:** January 01, 2016 to November 22, 2024 <br>\n",
        "- Annual Data 2016 to 2023 <br>\n",
        "- Quarterly Data 2024 <br>\n",
        "   - **USA:** Q1, Q2, Q3 <br>\n",
        "   - **Canada:** Q1"
      ],
      "metadata": {
        "id": "YKMvMcv5mlGc"
      }
    },
    {
      "cell_type": "code",
      "source": [
        "pip install requests pandas\n"
      ],
      "metadata": {
        "colab": {
          "base_uri": "https://localhost:8080/"
        },
        "id": "NybWcY2yvfcd",
        "outputId": "d6244052-28f5-4bb1-947b-0a467b464d41"
      },
      "execution_count": null,
      "outputs": [
        {
          "output_type": "stream",
          "name": "stdout",
          "text": [
            "Requirement already satisfied: requests in /usr/local/lib/python3.10/dist-packages (2.32.3)\n",
            "Requirement already satisfied: pandas in /usr/local/lib/python3.10/dist-packages (2.2.2)\n",
            "Requirement already satisfied: charset-normalizer<4,>=2 in /usr/local/lib/python3.10/dist-packages (from requests) (3.4.0)\n",
            "Requirement already satisfied: idna<4,>=2.5 in /usr/local/lib/python3.10/dist-packages (from requests) (3.10)\n",
            "Requirement already satisfied: urllib3<3,>=1.21.1 in /usr/local/lib/python3.10/dist-packages (from requests) (2.2.3)\n",
            "Requirement already satisfied: certifi>=2017.4.17 in /usr/local/lib/python3.10/dist-packages (from requests) (2024.8.30)\n",
            "Requirement already satisfied: numpy>=1.22.4 in /usr/local/lib/python3.10/dist-packages (from pandas) (1.26.4)\n",
            "Requirement already satisfied: python-dateutil>=2.8.2 in /usr/local/lib/python3.10/dist-packages (from pandas) (2.8.2)\n",
            "Requirement already satisfied: pytz>=2020.1 in /usr/local/lib/python3.10/dist-packages (from pandas) (2024.2)\n",
            "Requirement already satisfied: tzdata>=2022.7 in /usr/local/lib/python3.10/dist-packages (from pandas) (2024.2)\n",
            "Requirement already satisfied: six>=1.5 in /usr/local/lib/python3.10/dist-packages (from python-dateutil>=2.8.2->pandas) (1.16.0)\n"
          ]
        }
      ]
    },
    {
      "cell_type": "markdown",
      "source": [
        "**Sources:** annual_gdp.csv, quarterly_gdp.csv\n",
        "1. filtered relevant data <br>\n",
        "2. combined data"
      ],
      "metadata": {
        "id": "HYiEWwSPAtdt"
      }
    },
    {
      "cell_type": "code",
      "source": [
        "import pandas as pd\n",
        "\n",
        "# Load the annual GDP data (2016-2023) for US and Canada\n",
        "annual_file_path = '/content/drive/MyDrive/Ai4Ducks/hack/CodeJam/Data/Collection/annual_gdp.csv'\n",
        "annual_df = pd.read_csv(annual_file_path)\n",
        "\n",
        "# Load the quarterly GDP data for US and Canada (2024 Q1, Q2, Q3)\n",
        "quarterly_file_path = '/content/drive/MyDrive/Ai4Ducks/hack/CodeJam/Data/Collection/quarterly_gdp.csv'\n",
        "quarterly_df = pd.read_csv(quarterly_file_path)\n",
        "\n",
        "# Inspect the columns to understand the structure (if you haven't already)\n",
        "print(annual_df.columns)\n",
        "print(quarterly_df.columns)\n",
        "\n",
        "# Filter for USA and Canada\n",
        "annual_df = annual_df[annual_df['REF_AREA'].isin(['USA', 'CAN'])]\n",
        "\n",
        "# We need to focus on the 'TIME_PERIOD' and 'OBS_VALUE' for GDP\n",
        "annual_gdp_df = annual_df[['REF_AREA', 'TIME_PERIOD', 'OBS_VALUE']]\n",
        "annual_gdp_df = annual_gdp_df.rename(columns={'REF_AREA': 'Country', 'TIME_PERIOD': 'Year', 'OBS_VALUE': 'GDP'})\n",
        "\n",
        "# Now for the quarterly data, filter for the same countries (USA and Canada)\n",
        "quarterly_df = quarterly_df[quarterly_df['REF_AREA'].isin(['USA', 'CAN'])]\n",
        "\n",
        "# Filter columns needed for merging (same as annual data)\n",
        "quarterly_gdp_df = quarterly_df[['REF_AREA', 'TIME_PERIOD', 'OBS_VALUE']]\n",
        "quarterly_gdp_df = quarterly_gdp_df.rename(columns={'REF_AREA': 'Country', 'TIME_PERIOD': 'Year', 'OBS_VALUE': 'GDP'})\n",
        "\n",
        "# Convert the 'TIME_PERIOD' to year-quarter format if necessary\n",
        "# If the 'TIME_PERIOD' is in a date format like '2024Q1', extract just the year part or create a new 'Year' column\n",
        "quarterly_gdp_df['Year'] = quarterly_gdp_df['Year'].str[:4]  # Extract the year part if the format is 'YYYYQ1'\n",
        "\n",
        "# To combine the quarterly data into yearly data, we can sum or average the GDP for the year\n",
        "quarterly_gdp_df = quarterly_gdp_df.groupby(['Country', 'Year']).agg({'GDP': 'sum'}).reset_index()\n",
        "\n",
        "# Now combine the annual and adjusted quarterly data into one DataFrame\n",
        "combined_df = pd.concat([annual_gdp_df, quarterly_gdp_df], ignore_index=True)\n",
        "\n",
        "# Ensure the combined data is sorted by country and year\n",
        "combined_df = combined_df.sort_values(by=['Country', 'Year'])\n",
        "\n",
        "# Check the combined DataFrame\n",
        "print(combined_df.head())\n",
        "\n",
        "# Save the combined data to a new CSV file\n",
        "combined_df.to_csv('/content/drive/MyDrive/Ai4Ducks/hack/CodeJam/Data/Collection/combined_gdp.csv', index=False)\n"
      ],
      "metadata": {
        "colab": {
          "base_uri": "https://localhost:8080/"
        },
        "id": "759DWXiI_-ka",
        "outputId": "791dc537-5489-4eb7-a0b2-d98507338bbd"
      },
      "execution_count": null,
      "outputs": [
        {
          "output_type": "stream",
          "name": "stdout",
          "text": [
            "Index(['STRUCTURE', 'STRUCTURE_ID', 'STRUCTURE_NAME', 'ACTION', 'FREQ',\n",
            "       'Frequency of observation', 'ADJUSTMENT', 'Adjustment', 'REF_AREA',\n",
            "       'Reference area', 'SECTOR', 'Institutional sector',\n",
            "       'COUNTERPART_SECTOR', 'Counterpart institutional sector', 'TRANSACTION',\n",
            "       'Transaction', 'INSTR_ASSET',\n",
            "       'Financial instruments and non-financial assets', 'ACTIVITY',\n",
            "       'Economic activity', 'EXPENDITURE', 'Expenditure', 'UNIT_MEASURE',\n",
            "       'Unit of measure', 'PRICE_BASE', 'Price base', 'TRANSFORMATION',\n",
            "       'Transformation', 'TABLE_IDENTIFIER', 'Table identifier', 'TIME_PERIOD',\n",
            "       'Time period', 'OBS_VALUE', 'Observation value', 'REF_YEAR_PRICE',\n",
            "       'Price reference year', 'BASE_PER', 'Base period', 'CONF_STATUS',\n",
            "       'Confidentiality status', 'DECIMALS', 'Decimals', 'OBS_STATUS',\n",
            "       'Observation status', 'UNIT_MULT', 'Unit multiplier', 'CURRENCY',\n",
            "       'Currency'],\n",
            "      dtype='object')\n",
            "Index(['STRUCTURE', 'STRUCTURE_ID', 'STRUCTURE_NAME', 'ACTION', 'FREQ',\n",
            "       'Frequency of observation', 'ADJUSTMENT', 'Adjustment', 'REF_AREA',\n",
            "       'Reference area', 'SECTOR', 'Institutional sector',\n",
            "       'COUNTERPART_SECTOR', 'Counterpart institutional sector', 'TRANSACTION',\n",
            "       'Transaction', 'INSTR_ASSET',\n",
            "       'Financial instruments and non-financial assets', 'ACTIVITY',\n",
            "       'Economic activity', 'EXPENDITURE', 'Expenditure', 'UNIT_MEASURE',\n",
            "       'Unit of measure', 'PRICE_BASE', 'Price base', 'TRANSFORMATION',\n",
            "       'Transformation', 'TABLE_IDENTIFIER', 'Table identifier', 'TIME_PERIOD',\n",
            "       'Time period', 'OBS_VALUE', 'Observation value', 'REF_YEAR_PRICE',\n",
            "       'Price reference year', 'BASE_PER', 'Base period', 'CONF_STATUS',\n",
            "       'Confidentiality status', 'DECIMALS', 'Decimals', 'OBS_STATUS',\n",
            "       'Observation status', 'UNIT_MULT', 'Unit multiplier', 'CURRENCY',\n",
            "       'Currency'],\n",
            "      dtype='object')\n",
            "  Country  Year      GDP\n",
            "3     CAN  2016  46545.8\n",
            "4     CAN  2017  48384.6\n",
            "7     CAN  2018  50068.1\n",
            "8     CAN  2019  50584.1\n",
            "1     CAN  2020  48630.2\n"
          ]
        }
      ]
    },
    {
      "cell_type": "markdown",
      "source": [
        "# Interest Rate Data Collection <br>\n",
        "**Source**:<br>\n",
        "Bank of Canada (CAN) <br>\n",
        "Fred API (USA) <br>\n",
        "**Dates:** January 01, 2016 to November 22, 2024 <br>"
      ],
      "metadata": {
        "id": "HhLAZ3PeePbe"
      }
    },
    {
      "cell_type": "markdown",
      "source": [
        "Bank of Canada"
      ],
      "metadata": {
        "id": "C20c2n5hfwD_"
      }
    },
    {
      "cell_type": "code",
      "source": [
        "import pandas as pd\n",
        "\n",
        "# Path to the CSV file\n",
        "file_path = '/content/drive/MyDrive/Ai4Ducks/hack/CodeJam/Data/Collection/can_interest_rates.csv'\n",
        "\n",
        "# Step 1: Load the CSV file starting from row 12 (skip the first 11 rows)\n",
        "try:\n",
        "    df = pd.read_csv(file_path, skiprows=11, on_bad_lines='skip', sep=',')\n",
        "except FileNotFoundError:\n",
        "    print(f\"Error: File not found at {file_path}\")\n",
        "    raise\n",
        "except pd.errors.ParserError:\n",
        "    print(f\"Error: There is a parsing issue with the file. Check the format.\")\n",
        "    raise\n",
        "\n",
        "# Step 2: Inspect the first few rows to check the structure\n",
        "print(\"First few rows of the cleaned data:\")\n",
        "print(df.head())\n",
        "\n",
        "# Step 3: Rename the column 'V39079' to 'CAN_Interest_Rate'\n",
        "df = df.rename(columns={\"V39079\": \"CAN_Interest_Rate\"})\n",
        "\n",
        "# Step 4: Inspect the cleaned data\n",
        "print(\"Data after renaming column:\")\n",
        "print(df.head())\n",
        "\n",
        "# Step 5: Save the cleaned DataFrame back to a CSV (optional)\n",
        "output_file_path = '/content/drive/MyDrive/Ai4Ducks/hack/CodeJam/Data/Clean/cleaned_can_interest_rates.csv'\n",
        "df.to_csv(output_file_path, index=False)\n",
        "\n",
        "print(f\"Cleaned data saved to {output_file_path}\")\n"
      ],
      "metadata": {
        "colab": {
          "base_uri": "https://localhost:8080/"
        },
        "id": "jFfZOiLkkzji",
        "outputId": "69924fae-54dc-4701-e005-88fff5f93c4d"
      },
      "execution_count": null,
      "outputs": [
        {
          "output_type": "stream",
          "name": "stdout",
          "text": [
            "First few rows of the cleaned data:\n",
            "         Date V39079\n",
            "0  2024-11-21   3.75\n",
            "1  2024-11-20   3.75\n",
            "2  2024-11-19   3.75\n",
            "3  2024-11-18   3.75\n",
            "4  2024-11-15   3.75\n",
            "Data after renaming column:\n",
            "         Date CAN_Interest_Rate\n",
            "0  2024-11-21              3.75\n",
            "1  2024-11-20              3.75\n",
            "2  2024-11-19              3.75\n",
            "3  2024-11-18              3.75\n",
            "4  2024-11-15              3.75\n",
            "Cleaned data saved to /content/drive/MyDrive/Ai4Ducks/hack/CodeJam/Data/Clean/cleaned_can_interest_rates.csv\n"
          ]
        }
      ]
    },
    {
      "cell_type": "markdown",
      "source": [
        "Fred API"
      ],
      "metadata": {
        "id": "_Zy3q_NOf2tx"
      }
    },
    {
      "cell_type": "code",
      "source": [
        "pip install fredapi\n"
      ],
      "metadata": {
        "colab": {
          "base_uri": "https://localhost:8080/"
        },
        "id": "hlcPyZJ8f58R",
        "outputId": "c7cf1f10-7671-4611-e808-3290564653c0"
      },
      "execution_count": null,
      "outputs": [
        {
          "output_type": "stream",
          "name": "stdout",
          "text": [
            "Collecting fredapi\n",
            "  Downloading fredapi-0.5.2-py3-none-any.whl.metadata (5.0 kB)\n",
            "Requirement already satisfied: pandas in /usr/local/lib/python3.10/dist-packages (from fredapi) (2.2.2)\n",
            "Requirement already satisfied: numpy>=1.22.4 in /usr/local/lib/python3.10/dist-packages (from pandas->fredapi) (1.26.4)\n",
            "Requirement already satisfied: python-dateutil>=2.8.2 in /usr/local/lib/python3.10/dist-packages (from pandas->fredapi) (2.8.2)\n",
            "Requirement already satisfied: pytz>=2020.1 in /usr/local/lib/python3.10/dist-packages (from pandas->fredapi) (2024.2)\n",
            "Requirement already satisfied: tzdata>=2022.7 in /usr/local/lib/python3.10/dist-packages (from pandas->fredapi) (2024.2)\n",
            "Requirement already satisfied: six>=1.5 in /usr/local/lib/python3.10/dist-packages (from python-dateutil>=2.8.2->pandas->fredapi) (1.16.0)\n",
            "Downloading fredapi-0.5.2-py3-none-any.whl (11 kB)\n",
            "Installing collected packages: fredapi\n",
            "Successfully installed fredapi-0.5.2\n"
          ]
        }
      ]
    },
    {
      "cell_type": "code",
      "source": [
        "from fredapi import Fred\n",
        "import pandas as pd\n",
        "\n",
        "# Replace with your FRED API key\n",
        "FRED_API_KEY = '0eee161cb478eab7a554835d3a7ff993'\n",
        "fred = Fred(api_key=FRED_API_KEY)\n",
        "\n",
        "# Fetch Effective Federal Funds Rate (FEDFUNDS) data\n",
        "start_date = \"2016-01-01\"\n",
        "end_date = \"2024-11-22\"\n",
        "fed_funds_data = fred.get_series('FEDFUNDS', observation_start=start_date, observation_end=end_date)\n",
        "\n",
        "# Convert to DataFrame and reset the index\n",
        "fed_funds_df = pd.DataFrame(fed_funds_data, columns=['USA_Interest_Rate']).reset_index()\n",
        "\n",
        "# Rename columns\n",
        "fed_funds_df.rename(columns={'index': 'Date'}, inplace=True)\n",
        "\n",
        "# Ensure daily frequency\n",
        "fed_funds_df['Date'] = pd.to_datetime(fed_funds_df['Date'])\n",
        "daily_index = pd.date_range(start=start_date, end=end_date, freq='D')\n",
        "fed_funds_df = fed_funds_df.set_index('Date').reindex(daily_index)\n",
        "\n",
        "# Fill missing values using forward-fill (fill missing weekends/holidays)\n",
        "fed_funds_df.index.name = 'Date'\n",
        "fed_funds_df['USA_Interest_Rate'] = fed_funds_df['USA_Interest_Rate'].fillna(method='ffill')\n",
        "\n",
        "# Save to CSV\n",
        "output_path = '/content/drive/MyDrive/Ai4Ducks/hack/CodeJam/Data/Correction/Retrieved/sample_us.csv'\n",
        "fed_funds_df.to_csv(output_path)\n",
        "\n",
        "print(f\"Daily data saved to {output_path}\")\n"
      ],
      "metadata": {
        "colab": {
          "base_uri": "https://localhost:8080/"
        },
        "id": "yLLT0oocsrwh",
        "outputId": "2eea3c13-93a9-45dc-f048-3119a7ca20a9"
      },
      "execution_count": null,
      "outputs": [
        {
          "output_type": "stream",
          "name": "stderr",
          "text": [
            "<ipython-input-4-307a5ed4dfa6>:26: FutureWarning: Series.fillna with 'method' is deprecated and will raise in a future version. Use obj.ffill() or obj.bfill() instead.\n",
            "  fed_funds_df['USA_Interest_Rate'] = fed_funds_df['USA_Interest_Rate'].fillna(method='ffill')\n"
          ]
        },
        {
          "output_type": "stream",
          "name": "stdout",
          "text": [
            "Daily data saved to /content/drive/MyDrive/Ai4Ducks/hack/CodeJam/Data/Correction/Retrieved/sample_us.csv\n"
          ]
        }
      ]
    },
    {
      "cell_type": "markdown",
      "source": [
        "TEST"
      ],
      "metadata": {
        "id": "Vyn_6cRF3Wti"
      }
    },
    {
      "cell_type": "code",
      "source": [
        "import pandas as pd\n",
        "from fredapi import Fred\n",
        "\n",
        "# Initialize FRED API\n",
        "fred_api_key = \"0eee161cb478eab7a554835d3a7ff993\"  # Replace with your FRED API key\n",
        "fred = Fred(api_key=fred_api_key)\n",
        "\n",
        "# Fetch US Federal Funds Rate (daily data) from FRED\n",
        "us_interest_rate_daily = fred.get_series(\"FEDFUNDS\", observation_start=\"2016-01-01\", observation_end=\"2024-11-22\")\n",
        "\n",
        "# Convert the daily data into a DataFrame\n",
        "us_interest_rate_df = pd.DataFrame(us_interest_rate_daily, columns=[\"Interest Rate US (%)\"])\n",
        "us_interest_rate_df.index = pd.to_datetime(us_interest_rate_df.index)\n",
        "us_interest_rate_df.reset_index(inplace=True)\n",
        "us_interest_rate_df.rename(columns={\"index\": \"Date\"}, inplace=True)\n",
        "\n",
        "# Add a \"Quarter\" column for grouping\n",
        "us_interest_rate_df[\"Quarter\"] = us_interest_rate_df[\"Date\"].dt.to_period(\"Q\")\n",
        "\n",
        "# Calculate the quarterly average interest rates\n",
        "us_quarterly_interest_rate = (\n",
        "    us_interest_rate_df.groupby(\"Quarter\")[\"Interest Rate US (%)\"]\n",
        "    .mean()\n",
        "    .reset_index()\n",
        ")\n",
        "\n",
        "# Convert Quarter to start-of-quarter Date and string format\n",
        "us_quarterly_interest_rate[\"Date\"] = us_quarterly_interest_rate[\"Quarter\"].dt.start_time\n",
        "us_quarterly_interest_rate[\"Quarter\"] = us_quarterly_interest_rate[\"Quarter\"].astype(str)\n",
        "\n",
        "# Rearrange columns\n",
        "us_quarterly_interest_rate = us_quarterly_interest_rate[[\"Date\", \"Quarter\", \"Interest Rate US (%)\"]]\n",
        "\n",
        "# Save to CSV\n",
        "output_path = \"/content/drive/MyDrive/Ai4Ducks/hack/CodeJam/Data/Correction/Retrieved/US_Interest_Rate_Quarterly.csv\"  # Save file in the current directory\n",
        "us_quarterly_interest_rate.to_csv(output_path, index=False)\n",
        "\n",
        "print(f\"Quarterly US interest rate data saved to: {output_path}\")\n"
      ],
      "metadata": {
        "colab": {
          "base_uri": "https://localhost:8080/"
        },
        "id": "hmb7wsrT-FVe",
        "outputId": "60b6229f-bf34-4b5d-fb9d-df3db1ed2cf3"
      },
      "execution_count": null,
      "outputs": [
        {
          "output_type": "stream",
          "name": "stdout",
          "text": [
            "Quarterly US interest rate data saved to: /content/drive/MyDrive/Ai4Ducks/hack/CodeJam/Data/Correction/Retrieved/US_Interest_Rate_Quarterly.csv\n"
          ]
        }
      ]
    },
    {
      "cell_type": "code",
      "source": [
        "import pandas as pd\n",
        "from fredapi import Fred\n",
        "\n",
        "# Initialize FRED API for US Interest Rate (Federal Funds Rate)\n",
        "api_key = '0eee161cb478eab7a554835d3a7ff993'  # Replace with your actual API key\n",
        "fred = Fred(api_key=api_key)\n",
        "\n",
        "# Fetch US Federal Funds Rate (daily data from 2016 to 2024)\n",
        "us_interest_rate_daily = fred.get_series('FEDFUNDS', start_date='2016-01-01', end_date='2024-11-22')\n",
        "\n",
        "# Resample US Interest Rate from daily to quarterly, using mean of the quarter\n",
        "us_interest_rate_quarterly = us_interest_rate_daily.resample('Q').mean()\n",
        "\n",
        "# Rename the column to 'Interest Rate USD'\n",
        "us_interest_rate_quarterly.name = 'Interest Rate USD'\n",
        "\n",
        "# Print out the resampled quarterly data\n",
        "print(us_interest_rate_quarterly)\n",
        "\n",
        "# Optionally, save the quarterly data to a CSV file\n",
        "us_interest_rate_quarterly.to_csv('/content/drive/MyDrive/Ai4Ducks/hack/CodeJam/Data/Correction/Retrieved/US_Interest_Rate_Quarterly.csv', header=True)\n"
      ],
      "metadata": {
        "colab": {
          "base_uri": "https://localhost:8080/"
        },
        "id": "eerPj7II6dkX",
        "outputId": "aca156ab-74ab-44c8-be22-ec9c90f1f5c0"
      },
      "execution_count": null,
      "outputs": [
        {
          "output_type": "stream",
          "name": "stdout",
          "text": [
            "1954-09-30    1.030000\n",
            "1954-12-31    0.986667\n",
            "1955-03-31    1.343333\n",
            "1955-06-30    1.500000\n",
            "1955-09-30    1.940000\n",
            "                ...   \n",
            "2023-12-31    5.330000\n",
            "2024-03-31    5.330000\n",
            "2024-06-30    5.330000\n",
            "2024-09-30    5.263333\n",
            "2024-12-31    4.830000\n",
            "Freq: QE-DEC, Name: Interest Rate USD, Length: 282, dtype: float64\n"
          ]
        },
        {
          "output_type": "stream",
          "name": "stderr",
          "text": [
            "<ipython-input-14-39e0bbec2861>:12: FutureWarning: 'Q' is deprecated and will be removed in a future version, please use 'QE' instead.\n",
            "  us_interest_rate_quarterly = us_interest_rate_daily.resample('Q').mean()\n"
          ]
        }
      ]
    },
    {
      "cell_type": "markdown",
      "source": [
        "# Inflation Rate Data Collection <br>\n",
        "**Source**:<br>\n",
        "Bank of Canada(CAN) <br>\n",
        "FRED API (USA) <br>\n",
        "**Dates:** January 01, 2016 to November 22, 2024 <br>"
      ],
      "metadata": {
        "id": "IlIDTf5XxKaB"
      }
    },
    {
      "cell_type": "markdown",
      "source": [
        "Bank of Canada"
      ],
      "metadata": {
        "id": "jqtUSngAxmYD"
      }
    },
    {
      "cell_type": "code",
      "source": [
        "import pandas as pd\n",
        "\n",
        "# Path to the CSV file\n",
        "file_path = '/content/drive/MyDrive/Ai4Ducks/hack/CodeJam/Data/Collection/can_cpi_data.csv'\n",
        "\n",
        "# Step 1: Load the CSV file starting from row 26 (skip the first 25 rows)\n",
        "try:\n",
        "    df = pd.read_csv(file_path, skiprows=25, on_bad_lines='skip', sep=',')\n",
        "except FileNotFoundError:\n",
        "    print(f\"Error: File not found at {file_path}\")\n",
        "    raise\n",
        "except pd.errors.ParserError:\n",
        "    print(f\"Error: There is a parsing issue with the file. Check the format.\")\n",
        "    raise\n",
        "\n",
        "# Step 2: Rename the column 'V41690973' to 'CAD_Inflation_Rate'\n",
        "df = df.rename(columns={\"V41690973\": \"CAD_Inflation_Rate\"})\n",
        "\n",
        "# Step 3: Keep only the 'Date' and 'CAD_Inflation_Rate' columns\n",
        "df = df[['date', 'CAD_Inflation_Rate']]\n",
        "\n",
        "# Step 4: Convert the 'Date' column to datetime format for comparison\n",
        "df['date'] = pd.to_datetime(df['date'], errors='coerce')\n",
        "\n",
        "# Step 5: Filter rows to keep only those from 2016-01-01 to 2024-10-01\n",
        "df_filtered = df[(df['date'] >= '2016-01-01') & (df['date'] <= '2024-10-01')]\n",
        "\n",
        "# Step 6: Inspect the filtered data\n",
        "print(\"Filtered data:\")\n",
        "print(df_filtered.head())\n",
        "\n",
        "# Step 7: Save the cleaned and filtered DataFrame back to a CSV (optional)\n",
        "output_file_path = '/content/drive/MyDrive/Ai4Ducks/hack/CodeJam/Data/Clean/cleaned_can_cpi_data.csv'\n",
        "df_filtered.to_csv(output_file_path, index=False)\n",
        "\n",
        "print(f\"Cleaned and filtered data saved to {output_file_path}\")\n"
      ],
      "metadata": {
        "colab": {
          "base_uri": "https://localhost:8080/"
        },
        "id": "obqW99UkIxIo",
        "outputId": "00255985-1473-4e94-ee84-06e8f9457d2c"
      },
      "execution_count": null,
      "outputs": [
        {
          "output_type": "stream",
          "name": "stdout",
          "text": [
            "Filtered data:\n",
            "          date CAD_Inflation_Rate\n",
            "252 2016-01-01              126.8\n",
            "253 2016-02-01              127.1\n",
            "254 2016-03-01              127.9\n",
            "255 2016-04-01              128.3\n",
            "256 2016-05-01              128.8\n",
            "Cleaned and filtered data saved to /content/drive/MyDrive/Ai4Ducks/hack/CodeJam/Data/Clean/cleaned_can_cpi_data.csv\n"
          ]
        }
      ]
    },
    {
      "cell_type": "code",
      "source": [
        "import pandas as pd\n",
        "\n",
        "# Path to the CSV file\n",
        "file_path = '/content/drive/MyDrive/Ai4Ducks/hack/CodeJam/Data/Clean/cleaned_can_cpi_data.csv'\n",
        "\n",
        "# Step 1: Load the CSV file, skipping rows 107 and beyond\n",
        "try:\n",
        "    # We skip rows starting from index 107 (which would be row 108 in the CSV)\n",
        "    df = pd.read_csv(file_path, skiprows=range(107, len(open(file_path).readlines())), on_bad_lines='skip', sep=',')\n",
        "except FileNotFoundError:\n",
        "    print(f\"Error: File not found at {file_path}\")\n",
        "    raise\n",
        "except pd.errors.ParserError:\n",
        "    print(f\"Error: There is a parsing issue with the file. Check the format.\")\n",
        "    raise\n",
        "\n",
        "# Step 2: Inspect the first few rows of the cleaned data\n",
        "print(\"First few rows of the cleaned data:\")\n",
        "print(df.head())\n",
        "\n",
        "# Step 3: Save the cleaned DataFrame back to a new CSV file (optional)\n",
        "output_file_path = '/content/drive/MyDrive/Ai4Ducks/hack/CodeJam/Data/Clean/cleaned_can_cpi_data.csv'\n",
        "df.to_csv(output_file_path, index=False)\n",
        "\n",
        "print(f\"Cleaned data saved to {output_file_path}\")\n"
      ],
      "metadata": {
        "colab": {
          "base_uri": "https://localhost:8080/"
        },
        "id": "wcRAyCa5Jp22",
        "outputId": "732666e6-00b5-4aa7-f663-a389969b4f5e"
      },
      "execution_count": null,
      "outputs": [
        {
          "output_type": "stream",
          "name": "stdout",
          "text": [
            "First few rows of the cleaned data:\n",
            "         date  CAD_Inflation_Rate\n",
            "0  2016-01-01               126.8\n",
            "1  2016-02-01               127.1\n",
            "2  2016-03-01               127.9\n",
            "3  2016-04-01               128.3\n",
            "4  2016-05-01               128.8\n",
            "Cleaned data saved to /content/drive/MyDrive/Ai4Ducks/hack/CodeJam/Data/Clean/cleaned_can_cpi_filtered.csv\n"
          ]
        }
      ]
    },
    {
      "cell_type": "code",
      "source": [
        "import pandas as pd\n",
        "\n",
        "# Path to the CSV file\n",
        "file_path = '/content/drive/MyDrive/Ai4Ducks/hack/CodeJam/Data/Collection/can_cpi_data.csv'\n",
        "\n",
        "# Step 1: Load the CSV file starting from row 26 (skip the first 25 rows)\n",
        "try:\n",
        "    df = pd.read_csv(file_path, skiprows=25, on_bad_lines='skip', sep=',')\n",
        "except FileNotFoundError:\n",
        "    print(f\"Error: File not found at {file_path}\")\n",
        "    raise\n",
        "except pd.errors.ParserError:\n",
        "    print(f\"Error: There is a parsing issue with the file. Check the format.\")\n",
        "    raise\n",
        "\n",
        "# Step 2: Inspect the first few rows to check the structure\n",
        "print(\"First few rows of the cleaned data:\")\n",
        "print(df.head())\n",
        "\n",
        "# Step 3: Rename the column 'V41690973' to 'CAD_Inflation_Rate'\n",
        "df = df.rename(columns={\"V41690973\": \"CAD_Inflation_Rate\"})\n",
        "\n",
        "# Step 4: Inspect the cleaned data\n",
        "print(\"Data after renaming column:\")\n",
        "print(df.head())\n",
        "\n",
        "# Step 5: Save the cleaned DataFrame back to a CSV (optional)\n",
        "output_file_path = '/content/drive/MyDrive/Ai4Ducks/hack/CodeJam/Data/Clean/cleaned_can_cpi_data.csv'\n",
        "df.to_csv(output_file_path, index=False)\n",
        "\n",
        "print(f\"Cleaned data saved to {output_file_path}\")\n"
      ],
      "metadata": {
        "colab": {
          "base_uri": "https://localhost:8080/"
        },
        "id": "vTgFq03pHfTp",
        "outputId": "f2d87541-9502-4491-e1e2-345e1da76434"
      },
      "execution_count": null,
      "outputs": [
        {
          "output_type": "stream",
          "name": "stdout",
          "text": [
            "First few rows of the cleaned data:\n",
            "         date V41690973 V41690914 STATIC_TOTALCPICHANGE CPI_TRIM CPI_MEDIAN  \\\n",
            "0  1995-01-01      86.6      86.6                   0.6      1.8        1.7   \n",
            "1  1995-02-01      87.0      87.0                   1.9      1.8        1.8   \n",
            "2  1995-03-01      87.2      87.2                   2.1      1.9        1.8   \n",
            "3  1995-04-01      87.5      87.4                   2.5      2.1        1.9   \n",
            "4  1995-05-01      87.7      87.7                   2.9      2.3        2.1   \n",
            "\n",
            "  CPI_COMMON ATOM_V41693242 STATIC_CPIXFET CPIW  \n",
            "0        1.1            NaN            2.2  1.7  \n",
            "1        1.2            NaN            1.8  1.7  \n",
            "2        1.5            NaN            2.1  1.9  \n",
            "3        1.5            NaN            2.1  2.0  \n",
            "4        1.9            NaN            2.5  2.2  \n",
            "Data after renaming column:\n",
            "         date CAD_Inflation_Rate V41690914 STATIC_TOTALCPICHANGE CPI_TRIM  \\\n",
            "0  1995-01-01               86.6      86.6                   0.6      1.8   \n",
            "1  1995-02-01               87.0      87.0                   1.9      1.8   \n",
            "2  1995-03-01               87.2      87.2                   2.1      1.9   \n",
            "3  1995-04-01               87.5      87.4                   2.5      2.1   \n",
            "4  1995-05-01               87.7      87.7                   2.9      2.3   \n",
            "\n",
            "  CPI_MEDIAN CPI_COMMON ATOM_V41693242 STATIC_CPIXFET CPIW  \n",
            "0        1.7        1.1            NaN            2.2  1.7  \n",
            "1        1.8        1.2            NaN            1.8  1.7  \n",
            "2        1.8        1.5            NaN            2.1  1.9  \n",
            "3        1.9        1.5            NaN            2.1  2.0  \n",
            "4        2.1        1.9            NaN            2.5  2.2  \n",
            "Cleaned data saved to /content/drive/MyDrive/Ai4Ducks/hack/CodeJam/Data/Clean/cleaned_can_cpi_data.csv\n"
          ]
        }
      ]
    },
    {
      "cell_type": "code",
      "source": [
        "import pandas as pd\n",
        "\n",
        "# Path to the cleaned CSV file\n",
        "file_path = '/content/drive/MyDrive/Ai4Ducks/hack/CodeJam/Data/Clean/cleaned_can_cpi.csv'\n",
        "\n",
        "# Step 1: Load the CSV file\n",
        "try:\n",
        "    df = pd.read_csv(file_path, on_bad_lines='skip', sep=',')\n",
        "except FileNotFoundError:\n",
        "    print(f\"Error: File not found at {file_path}\")\n",
        "    raise\n",
        "except pd.errors.ParserError:\n",
        "    print(f\"Error: There is a parsing issue with the file. Check the format.\")\n",
        "    raise\n",
        "\n",
        "# Step 2: Convert the 'Date' column to datetime format\n",
        "df['Date'] = pd.to_datetime(df['Date'], errors='coerce')\n",
        "\n",
        "# Step 3: Filter the data to keep rows from 2016-01-01 to 2024-11-22\n",
        "df = df[(df['Date'] >= '2016-01-01') & (df['Date'] <= '2024-11-22')]\n",
        "\n",
        "# Step 4: Set the 'Date' column as the index\n",
        "df.set_index('Date', inplace=True)\n",
        "\n",
        "# Step 5: Resample the data to daily frequency (fill missing dates with forward fill or interpolation)\n",
        "df_resampled = df.resample('D').ffill()  # Forward fill missing data (or you can use .interpolate())\n",
        "\n",
        "# Step 6: Inspect the first few rows of the resampled data\n",
        "print(\"First few rows of the resampled data:\")\n",
        "print(df_resampled.head())\n",
        "\n",
        "# Step 7: Save the resampled data to a new CSV file\n",
        "output_file_path = '/content/drive/MyDrive/Ai4Ducks/hack/CodeJam/Data/Clean/cleaned_cad_cpi.csv'\n",
        "df_resampled.to_csv(output_file_path)\n",
        "\n",
        "print(f\"Resampled data saved to {output_file_path}\")\n"
      ],
      "metadata": {
        "colab": {
          "base_uri": "https://localhost:8080/",
          "height": 547
        },
        "id": "xu7h9P0eQzIi",
        "outputId": "ea9e0b5d-adc9-4f5c-b647-86da4aa685bb"
      },
      "execution_count": null,
      "outputs": [
        {
          "output_type": "error",
          "ename": "KeyError",
          "evalue": "'Date'",
          "traceback": [
            "\u001b[0;31m---------------------------------------------------------------------------\u001b[0m",
            "\u001b[0;31mKeyError\u001b[0m                                  Traceback (most recent call last)",
            "\u001b[0;32m/usr/local/lib/python3.10/dist-packages/pandas/core/indexes/base.py\u001b[0m in \u001b[0;36mget_loc\u001b[0;34m(self, key)\u001b[0m\n\u001b[1;32m   3804\u001b[0m         \u001b[0;32mtry\u001b[0m\u001b[0;34m:\u001b[0m\u001b[0;34m\u001b[0m\u001b[0;34m\u001b[0m\u001b[0m\n\u001b[0;32m-> 3805\u001b[0;31m             \u001b[0;32mreturn\u001b[0m \u001b[0mself\u001b[0m\u001b[0;34m.\u001b[0m\u001b[0m_engine\u001b[0m\u001b[0;34m.\u001b[0m\u001b[0mget_loc\u001b[0m\u001b[0;34m(\u001b[0m\u001b[0mcasted_key\u001b[0m\u001b[0;34m)\u001b[0m\u001b[0;34m\u001b[0m\u001b[0;34m\u001b[0m\u001b[0m\n\u001b[0m\u001b[1;32m   3806\u001b[0m         \u001b[0;32mexcept\u001b[0m \u001b[0mKeyError\u001b[0m \u001b[0;32mas\u001b[0m \u001b[0merr\u001b[0m\u001b[0;34m:\u001b[0m\u001b[0;34m\u001b[0m\u001b[0;34m\u001b[0m\u001b[0m\n",
            "\u001b[0;32mindex.pyx\u001b[0m in \u001b[0;36mpandas._libs.index.IndexEngine.get_loc\u001b[0;34m()\u001b[0m\n",
            "\u001b[0;32mindex.pyx\u001b[0m in \u001b[0;36mpandas._libs.index.IndexEngine.get_loc\u001b[0;34m()\u001b[0m\n",
            "\u001b[0;32mpandas/_libs/hashtable_class_helper.pxi\u001b[0m in \u001b[0;36mpandas._libs.hashtable.PyObjectHashTable.get_item\u001b[0;34m()\u001b[0m\n",
            "\u001b[0;32mpandas/_libs/hashtable_class_helper.pxi\u001b[0m in \u001b[0;36mpandas._libs.hashtable.PyObjectHashTable.get_item\u001b[0;34m()\u001b[0m\n",
            "\u001b[0;31mKeyError\u001b[0m: 'Date'",
            "\nThe above exception was the direct cause of the following exception:\n",
            "\u001b[0;31mKeyError\u001b[0m                                  Traceback (most recent call last)",
            "\u001b[0;32m<ipython-input-31-7a3dfd3b6b1a>\u001b[0m in \u001b[0;36m<cell line: 17>\u001b[0;34m()\u001b[0m\n\u001b[1;32m     15\u001b[0m \u001b[0;34m\u001b[0m\u001b[0m\n\u001b[1;32m     16\u001b[0m \u001b[0;31m# Step 2: Convert the 'Date' column to datetime format\u001b[0m\u001b[0;34m\u001b[0m\u001b[0;34m\u001b[0m\u001b[0m\n\u001b[0;32m---> 17\u001b[0;31m \u001b[0mdf\u001b[0m\u001b[0;34m[\u001b[0m\u001b[0;34m'Date'\u001b[0m\u001b[0;34m]\u001b[0m \u001b[0;34m=\u001b[0m \u001b[0mpd\u001b[0m\u001b[0;34m.\u001b[0m\u001b[0mto_datetime\u001b[0m\u001b[0;34m(\u001b[0m\u001b[0mdf\u001b[0m\u001b[0;34m[\u001b[0m\u001b[0;34m'Date'\u001b[0m\u001b[0;34m]\u001b[0m\u001b[0;34m,\u001b[0m \u001b[0merrors\u001b[0m\u001b[0;34m=\u001b[0m\u001b[0;34m'coerce'\u001b[0m\u001b[0;34m)\u001b[0m\u001b[0;34m\u001b[0m\u001b[0;34m\u001b[0m\u001b[0m\n\u001b[0m\u001b[1;32m     18\u001b[0m \u001b[0;34m\u001b[0m\u001b[0m\n\u001b[1;32m     19\u001b[0m \u001b[0;31m# Step 3: Filter the data to keep rows from 2016-01-01 to 2024-11-22\u001b[0m\u001b[0;34m\u001b[0m\u001b[0;34m\u001b[0m\u001b[0m\n",
            "\u001b[0;32m/usr/local/lib/python3.10/dist-packages/pandas/core/frame.py\u001b[0m in \u001b[0;36m__getitem__\u001b[0;34m(self, key)\u001b[0m\n\u001b[1;32m   4100\u001b[0m             \u001b[0;32mif\u001b[0m \u001b[0mself\u001b[0m\u001b[0;34m.\u001b[0m\u001b[0mcolumns\u001b[0m\u001b[0;34m.\u001b[0m\u001b[0mnlevels\u001b[0m \u001b[0;34m>\u001b[0m \u001b[0;36m1\u001b[0m\u001b[0;34m:\u001b[0m\u001b[0;34m\u001b[0m\u001b[0;34m\u001b[0m\u001b[0m\n\u001b[1;32m   4101\u001b[0m                 \u001b[0;32mreturn\u001b[0m \u001b[0mself\u001b[0m\u001b[0;34m.\u001b[0m\u001b[0m_getitem_multilevel\u001b[0m\u001b[0;34m(\u001b[0m\u001b[0mkey\u001b[0m\u001b[0;34m)\u001b[0m\u001b[0;34m\u001b[0m\u001b[0;34m\u001b[0m\u001b[0m\n\u001b[0;32m-> 4102\u001b[0;31m             \u001b[0mindexer\u001b[0m \u001b[0;34m=\u001b[0m \u001b[0mself\u001b[0m\u001b[0;34m.\u001b[0m\u001b[0mcolumns\u001b[0m\u001b[0;34m.\u001b[0m\u001b[0mget_loc\u001b[0m\u001b[0;34m(\u001b[0m\u001b[0mkey\u001b[0m\u001b[0;34m)\u001b[0m\u001b[0;34m\u001b[0m\u001b[0;34m\u001b[0m\u001b[0m\n\u001b[0m\u001b[1;32m   4103\u001b[0m             \u001b[0;32mif\u001b[0m \u001b[0mis_integer\u001b[0m\u001b[0;34m(\u001b[0m\u001b[0mindexer\u001b[0m\u001b[0;34m)\u001b[0m\u001b[0;34m:\u001b[0m\u001b[0;34m\u001b[0m\u001b[0;34m\u001b[0m\u001b[0m\n\u001b[1;32m   4104\u001b[0m                 \u001b[0mindexer\u001b[0m \u001b[0;34m=\u001b[0m \u001b[0;34m[\u001b[0m\u001b[0mindexer\u001b[0m\u001b[0;34m]\u001b[0m\u001b[0;34m\u001b[0m\u001b[0;34m\u001b[0m\u001b[0m\n",
            "\u001b[0;32m/usr/local/lib/python3.10/dist-packages/pandas/core/indexes/base.py\u001b[0m in \u001b[0;36mget_loc\u001b[0;34m(self, key)\u001b[0m\n\u001b[1;32m   3810\u001b[0m             ):\n\u001b[1;32m   3811\u001b[0m                 \u001b[0;32mraise\u001b[0m \u001b[0mInvalidIndexError\u001b[0m\u001b[0;34m(\u001b[0m\u001b[0mkey\u001b[0m\u001b[0;34m)\u001b[0m\u001b[0;34m\u001b[0m\u001b[0;34m\u001b[0m\u001b[0m\n\u001b[0;32m-> 3812\u001b[0;31m             \u001b[0;32mraise\u001b[0m \u001b[0mKeyError\u001b[0m\u001b[0;34m(\u001b[0m\u001b[0mkey\u001b[0m\u001b[0;34m)\u001b[0m \u001b[0;32mfrom\u001b[0m \u001b[0merr\u001b[0m\u001b[0;34m\u001b[0m\u001b[0;34m\u001b[0m\u001b[0m\n\u001b[0m\u001b[1;32m   3813\u001b[0m         \u001b[0;32mexcept\u001b[0m \u001b[0mTypeError\u001b[0m\u001b[0;34m:\u001b[0m\u001b[0;34m\u001b[0m\u001b[0;34m\u001b[0m\u001b[0m\n\u001b[1;32m   3814\u001b[0m             \u001b[0;31m# If we have a listlike key, _check_indexing_error will raise\u001b[0m\u001b[0;34m\u001b[0m\u001b[0;34m\u001b[0m\u001b[0m\n",
            "\u001b[0;31mKeyError\u001b[0m: 'Date'"
          ]
        }
      ]
    },
    {
      "cell_type": "code",
      "source": [
        "import pandas as pd\n",
        "\n",
        "# Path to the cleaned CSV file\n",
        "file_path = '/content/drive/MyDrive/Ai4Ducks/hack/CodeJam/Data/Clean/cleaned_can_cpi.csv'\n",
        "\n",
        "# Step 1: Load the CSV file\n",
        "try:\n",
        "    df = pd.read_csv(file_path, on_bad_lines='skip', sep=',')\n",
        "except FileNotFoundError:\n",
        "    print(f\"Error: File not found at {file_path}\")\n",
        "    raise\n",
        "except pd.errors.ParserError:\n",
        "    print(f\"Error: There is a parsing issue with the file. Check the format.\")\n",
        "    raise\n",
        "\n",
        "# Step 2: Convert the 'Date' column to datetime format\n",
        "df['date'] = pd.to_datetime(df['date'], errors='coerce')\n",
        "\n",
        "# Step 3: Filter the data to keep rows from 2016-01-01 to 2024-11-22\n",
        "df = df[(df['date'] >= '2016-01-01') & (df['date'] <= '2024-11-22')]\n",
        "\n",
        "# Step 4: Set the 'Date' column as the index\n",
        "df.set_index('date', inplace=True)\n",
        "\n",
        "# Step 5: Resample the data to daily frequency (fill missing dates with forward fill or interpolation)\n",
        "df_resampled = df.resample('D').ffill()  # Forward fill missing data (or you can use .interpolate())\n",
        "\n",
        "# Step 6: Inspect the first few rows of the resampled data\n",
        "print(\"First few rows of the resampled data:\")\n",
        "print(df_resampled.head())\n",
        "\n",
        "# Step 7: Save the resampled data to a new CSV file\n",
        "output_file_path = '/content/drive/MyDrive/Ai4Ducks/hack/CodeJam/Data/Clean/cleaned_cad_cpi.csv'\n",
        "df_resampled.to_csv(output_file_path)\n",
        "\n",
        "print(f\"Resampled data saved to {output_file_path}\")\n"
      ],
      "metadata": {
        "colab": {
          "base_uri": "https://localhost:8080/"
        },
        "id": "p9XskS4qRS4F",
        "outputId": "27f6643a-b633-4d06-b2b3-782dbffd5802"
      },
      "execution_count": null,
      "outputs": [
        {
          "output_type": "stream",
          "name": "stdout",
          "text": [
            "First few rows of the resampled data:\n",
            "            CAD_Inflation_Rate\n",
            "date                          \n",
            "2016-01-01               126.8\n",
            "2016-01-02               126.8\n",
            "2016-01-03               126.8\n",
            "2016-01-04               126.8\n",
            "2016-01-05               126.8\n",
            "Resampled data saved to /content/drive/MyDrive/Ai4Ducks/hack/CodeJam/Data/Clean/cleaned_cad_cpi.csv\n"
          ]
        }
      ]
    },
    {
      "cell_type": "markdown",
      "source": [
        "FRED API"
      ],
      "metadata": {
        "id": "iK8kwSTA4BNx"
      }
    },
    {
      "cell_type": "code",
      "source": [
        "from fredapi import Fred\n",
        "import pandas as pd\n",
        "\n",
        "# Replace with your FRED API key\n",
        "FRED_API_KEY = '0eee161cb478eab7a554835d3a7ff993'\n",
        "fred = Fred(api_key=FRED_API_KEY)\n",
        "\n",
        "# Fetch US CPI data (Consumer Price Index for All Urban Consumers)\n",
        "us_cpi_data = fred.get_series('CPIAUCSL', observation_start=\"2016-01-01\", observation_end=\"2024-11-22\")\n",
        "\n",
        "# Convert to DataFrame\n",
        "us_cpi_df = pd.DataFrame(us_cpi_data, columns=['USA_CPI'])\n",
        "us_cpi_df['Date'] = us_cpi_df.index\n",
        "\n",
        "# Set the 'Date' column as the index\n",
        "us_cpi_df.set_index('Date', inplace=True)\n",
        "\n",
        "# Resample the data to daily frequency (fill forward with the monthly value)\n",
        "us_cpi_df_daily = us_cpi_df.resample('D').ffill()\n",
        "\n",
        "# Inspect the daily CPI data\n",
        "print(us_cpi_df_daily.head())\n",
        "\n",
        "# Save the daily data to a CSV file\n",
        "us_cpi_df_daily.to_csv('/content/drive/MyDrive/Ai4Ducks/hack/CodeJam/Data/Collection/usa_cpi_data.csv')\n",
        "\n",
        "print(\"Daily CPI data saved to 'usa_daily_cpi.csv'\")\n"
      ],
      "metadata": {
        "colab": {
          "base_uri": "https://localhost:8080/"
        },
        "id": "wy-jqxE14C3a",
        "outputId": "40033fe8-7439-421c-ab1b-5126ce0c7e72"
      },
      "execution_count": null,
      "outputs": [
        {
          "output_type": "stream",
          "name": "stdout",
          "text": [
            "            USA_CPI\n",
            "Date               \n",
            "2016-01-01  237.652\n",
            "2016-01-02  237.652\n",
            "2016-01-03  237.652\n",
            "2016-01-04  237.652\n",
            "2016-01-05  237.652\n",
            "Daily CPI data saved to 'usa_daily_cpi.csv'\n"
          ]
        }
      ]
    }
  ]
}