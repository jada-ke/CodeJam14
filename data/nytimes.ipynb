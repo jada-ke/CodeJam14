{
 "cells": [
  {
   "cell_type": "code",
   "execution_count": 20,
   "metadata": {},
   "outputs": [
    {
     "name": "stdout",
     "output_type": "stream",
     "text": [
      "Defaulting to user installation because normal site-packages is not writeable\n",
      "Requirement already satisfied: requests in /Users/jadakethompson/Library/Python/3.9/lib/python/site-packages (2.32.3)\n",
      "Requirement already satisfied: certifi>=2017.4.17 in /Users/jadakethompson/Library/Python/3.9/lib/python/site-packages (from requests) (2024.8.30)\n",
      "Requirement already satisfied: urllib3<3,>=1.21.1 in /Users/jadakethompson/Library/Python/3.9/lib/python/site-packages (from requests) (2.2.3)\n",
      "Requirement already satisfied: idna<4,>=2.5 in /Users/jadakethompson/Library/Python/3.9/lib/python/site-packages (from requests) (3.10)\n",
      "Requirement already satisfied: charset-normalizer<4,>=2 in /Users/jadakethompson/Library/Python/3.9/lib/python/site-packages (from requests) (3.4.0)\n",
      "\u001b[33mWARNING: You are using pip version 21.2.4; however, version 24.3.1 is available.\n",
      "You should consider upgrading via the '/Library/Developer/CommandLineTools/usr/bin/python3 -m pip install --upgrade pip' command.\u001b[0m\n",
      "Defaulting to user installation because normal site-packages is not writeable\n",
      "Requirement already satisfied: python-dotenv in /Users/jadakethompson/Library/Python/3.9/lib/python/site-packages (1.0.1)\n",
      "\u001b[33mWARNING: You are using pip version 21.2.4; however, version 24.3.1 is available.\n",
      "You should consider upgrading via the '/Library/Developer/CommandLineTools/usr/bin/python3 -m pip install --upgrade pip' command.\u001b[0m\n",
      "Defaulting to user installation because normal site-packages is not writeable\n",
      "Requirement already satisfied: tqdm in /Users/jadakethompson/Library/Python/3.9/lib/python/site-packages (4.67.0)\n",
      "\u001b[33mWARNING: You are using pip version 21.2.4; however, version 24.3.1 is available.\n",
      "You should consider upgrading via the '/Library/Developer/CommandLineTools/usr/bin/python3 -m pip install --upgrade pip' command.\u001b[0m\n"
     ]
    }
   ],
   "source": [
    "!pip3 install requests\n",
    "!pip3 install python-dotenv\n",
    "!pip3 install tqdm\n"
   ]
  },
  {
   "cell_type": "code",
   "execution_count": 21,
   "metadata": {},
   "outputs": [],
   "source": [
    "from dotenv import load_dotenv\n",
    "import os\n",
    "\n",
    "load_dotenv()  # Load environment variables from .env\n",
    "API_KEY = os.getenv(\"NYT_API_KEY\")\n"
   ]
  },
  {
   "cell_type": "code",
   "execution_count": 24,
   "metadata": {},
   "outputs": [],
   "source": [
    "import requests\n",
    "import pandas as pd\n",
    "from datetime import datetime, timedelta\n",
    "from tqdm import tqdm \n",
    "import time"
   ]
  },
  {
   "cell_type": "code",
   "execution_count": null,
   "metadata": {},
   "outputs": [
    {
     "name": "stderr",
     "output_type": "stream",
     "text": [
      "Fetching Articles:   2%|▏         | 6/366 [00:38<38:20,  6.39s/it]"
     ]
    },
    {
     "name": "stdout",
     "output_type": "stream",
     "text": [
      "Error: 429 - {\"fault\":{\"faultstring\":\"Rate limit quota violation. Quota limit  exceeded. Identifier : 2f21ebb0-aba7-4509-96f4-eed17fd31371\",\"detail\":{\"errorcode\":\"policies.ratelimit.QuotaViolation\"}}}\n"
     ]
    },
    {
     "name": "stderr",
     "output_type": "stream",
     "text": [
      "Fetching Articles:   2%|▏         | 7/366 [00:44<38:07,  6.37s/it]"
     ]
    },
    {
     "name": "stdout",
     "output_type": "stream",
     "text": [
      "Error: 429 - {\"fault\":{\"faultstring\":\"Rate limit quota violation. Quota limit  exceeded. Identifier : 2f21ebb0-aba7-4509-96f4-eed17fd31371\",\"detail\":{\"errorcode\":\"policies.ratelimit.QuotaViolation\"}}}\n"
     ]
    },
    {
     "name": "stderr",
     "output_type": "stream",
     "text": [
      "Fetching Articles:   2%|▏         | 9/366 [01:02<41:14,  6.93s/it]\n"
     ]
    },
    {
     "ename": "KeyboardInterrupt",
     "evalue": "",
     "output_type": "error",
     "traceback": [
      "\u001b[0;31m---------------------------------------------------------------------------\u001b[0m",
      "\u001b[0;31mKeyboardInterrupt\u001b[0m                         Traceback (most recent call last)",
      "Cell \u001b[0;32mIn[25], line 29\u001b[0m\n\u001b[1;32m     27\u001b[0m current_date \u001b[38;5;241m=\u001b[39m startDate\n\u001b[1;32m     28\u001b[0m \u001b[38;5;28;01mwhile\u001b[39;00m current_date \u001b[38;5;241m<\u001b[39m\u001b[38;5;241m=\u001b[39m endDate:\n\u001b[0;32m---> 29\u001b[0m     \u001b[43mtime\u001b[49m\u001b[38;5;241;43m.\u001b[39;49m\u001b[43msleep\u001b[49m\u001b[43m(\u001b[49m\u001b[38;5;241;43m6\u001b[39;49m\u001b[43m)\u001b[49m \n\u001b[1;32m     30\u001b[0m     data \u001b[38;5;241m=\u001b[39m getArticlesForDate(current_date)\n\u001b[1;32m     31\u001b[0m     \u001b[38;5;28;01mif\u001b[39;00m data:\n\u001b[1;32m     32\u001b[0m         \u001b[38;5;66;03m# Extract article details\u001b[39;00m\n",
      "\u001b[0;31mKeyboardInterrupt\u001b[0m: "
     ]
    }
   ],
   "source": [
    "\n",
    "startDate = datetime(2016, 1, 1)\n",
    "endDate = datetime(2016,12,31)\n",
    "\n",
    "def getArticlesForDate(date):\n",
    "    endpoint = \"https://api.nytimes.com/svc/search/v2/articlesearch.json\"\n",
    "    params = {\n",
    "          \"q\": \"U.S. AND (economy OR trade OR Federal Reserve OR policy OR Canada)\",\n",
    "          \"fq\": 'section_name:(\"U.S.\" OR \"Business\" OR \"Economy\")',\n",
    "          \"begin_date\": date.strftime(\"%Y%m%d\"),\n",
    "          \"end_date\": date.strftime(\"%Y%m%d\"),\n",
    "          \"sort\": \"relevance\", \n",
    "          \"api-key\": API_KEY\n",
    "        }\n",
    "\n",
    "    response = requests.get(endpoint, params=params)\n",
    "\n",
    "    if response.status_code == 200:\n",
    "        return response.json()\n",
    "    \n",
    "    else:\n",
    "        print(f\"Error: {response.status_code} - {response.text}\")\n",
    "\n",
    "totalDays = (endDate - startDate).days + 1\n",
    "articlesData = []\n",
    "\n",
    "with tqdm(total=totalDays, desc=\"Fetching Articles\") as pbar:\n",
    "    current_date = startDate\n",
    "    while current_date <= endDate:\n",
    "        data = getArticlesForDate(current_date)\n",
    "        if data:\n",
    "            # Extract article details\n",
    "            docs = data.get('response', {}).get('docs', [])\n",
    "            for doc in docs:\n",
    "                article_info = {\n",
    "                    \"title\": doc.get(\"headline\", {}).get(\"main\", \"\"),\n",
    "                    \"snippet\": doc.get(\"snippet\", \"\"),\n",
    "                    \"url\": doc.get(\"web_url\", \"\"),\n",
    "                    \"published_date\": doc.get(\"pub_date\", \"\"),\n",
    "                    \"section\": doc.get(\"section_name\", \"\"),\n",
    "                    \"subsection\": doc.get(\"subsection_name\", \"\"),\n",
    "                }\n",
    "                articlesData.append(article_info)\n",
    "        # Move to the next day and update the progress bar\n",
    "        current_date += timedelta(days=1)\n",
    "        pbar.update(1)\n",
    "        time.sleep(6.1) \n",
    "\n",
    "articledf = pd.DataFrame(articlesData)\n",
    "print(articledf)\n"
   ]
  },
  {
   "cell_type": "code",
   "execution_count": null,
   "metadata": {},
   "outputs": [],
   "source": [
    "articledf.to_csv(\"/data/nyt_articles.csv\", index=False)"
   ]
  }
 ],
 "metadata": {
  "kernelspec": {
   "display_name": "Python 3",
   "language": "python",
   "name": "python3"
  },
  "language_info": {
   "codemirror_mode": {
    "name": "ipython",
    "version": 3
   },
   "file_extension": ".py",
   "mimetype": "text/x-python",
   "name": "python",
   "nbconvert_exporter": "python",
   "pygments_lexer": "ipython3",
   "version": "3.9.6"
  }
 },
 "nbformat": 4,
 "nbformat_minor": 2
}
