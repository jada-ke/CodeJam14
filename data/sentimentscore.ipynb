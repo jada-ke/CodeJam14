{
  "cells": [
    {
      "cell_type": "code",
      "execution_count": 8,
      "metadata": {
        "colab": {
          "base_uri": "https://localhost:8080/"
        },
        "id": "PT58arf66Ciy",
        "outputId": "6a38c657-db15-4295-e2dd-9fbc2a4b2af3"
      },
      "outputs": [
        {
          "output_type": "stream",
          "name": "stdout",
          "text": [
            "Requirement already satisfied: textblob in /usr/local/lib/python3.10/dist-packages (0.17.1)\n",
            "Requirement already satisfied: vaderSentiment in /usr/local/lib/python3.10/dist-packages (3.3.2)\n",
            "Requirement already satisfied: transformers in /usr/local/lib/python3.10/dist-packages (4.46.2)\n",
            "Requirement already satisfied: nltk>=3.1 in /usr/local/lib/python3.10/dist-packages (from textblob) (3.9.1)\n",
            "Requirement already satisfied: requests in /usr/local/lib/python3.10/dist-packages (from vaderSentiment) (2.32.3)\n",
            "Requirement already satisfied: filelock in /usr/local/lib/python3.10/dist-packages (from transformers) (3.16.1)\n",
            "Requirement already satisfied: huggingface-hub<1.0,>=0.23.2 in /usr/local/lib/python3.10/dist-packages (from transformers) (0.26.2)\n",
            "Requirement already satisfied: numpy>=1.17 in /usr/local/lib/python3.10/dist-packages (from transformers) (1.26.4)\n",
            "Requirement already satisfied: packaging>=20.0 in /usr/local/lib/python3.10/dist-packages (from transformers) (24.2)\n",
            "Requirement already satisfied: pyyaml>=5.1 in /usr/local/lib/python3.10/dist-packages (from transformers) (6.0.2)\n",
            "Requirement already satisfied: regex!=2019.12.17 in /usr/local/lib/python3.10/dist-packages (from transformers) (2024.9.11)\n",
            "Requirement already satisfied: safetensors>=0.4.1 in /usr/local/lib/python3.10/dist-packages (from transformers) (0.4.5)\n",
            "Requirement already satisfied: tokenizers<0.21,>=0.20 in /usr/local/lib/python3.10/dist-packages (from transformers) (0.20.3)\n",
            "Requirement already satisfied: tqdm>=4.27 in /usr/local/lib/python3.10/dist-packages (from transformers) (4.66.6)\n",
            "Requirement already satisfied: fsspec>=2023.5.0 in /usr/local/lib/python3.10/dist-packages (from huggingface-hub<1.0,>=0.23.2->transformers) (2024.10.0)\n",
            "Requirement already satisfied: typing-extensions>=3.7.4.3 in /usr/local/lib/python3.10/dist-packages (from huggingface-hub<1.0,>=0.23.2->transformers) (4.12.2)\n",
            "Requirement already satisfied: click in /usr/local/lib/python3.10/dist-packages (from nltk>=3.1->textblob) (8.1.7)\n",
            "Requirement already satisfied: joblib in /usr/local/lib/python3.10/dist-packages (from nltk>=3.1->textblob) (1.4.2)\n",
            "Requirement already satisfied: charset-normalizer<4,>=2 in /usr/local/lib/python3.10/dist-packages (from requests->vaderSentiment) (3.4.0)\n",
            "Requirement already satisfied: idna<4,>=2.5 in /usr/local/lib/python3.10/dist-packages (from requests->vaderSentiment) (3.10)\n",
            "Requirement already satisfied: urllib3<3,>=1.21.1 in /usr/local/lib/python3.10/dist-packages (from requests->vaderSentiment) (2.2.3)\n",
            "Requirement already satisfied: certifi>=2017.4.17 in /usr/local/lib/python3.10/dist-packages (from requests->vaderSentiment) (2024.8.30)\n",
            "Requirement already satisfied: torch in /usr/local/lib/python3.10/dist-packages (2.5.1+cu121)\n",
            "Requirement already satisfied: torchvision in /usr/local/lib/python3.10/dist-packages (0.20.1+cu121)\n",
            "Requirement already satisfied: torchaudio in /usr/local/lib/python3.10/dist-packages (2.5.1+cu121)\n",
            "Requirement already satisfied: filelock in /usr/local/lib/python3.10/dist-packages (from torch) (3.16.1)\n",
            "Requirement already satisfied: typing-extensions>=4.8.0 in /usr/local/lib/python3.10/dist-packages (from torch) (4.12.2)\n",
            "Requirement already satisfied: networkx in /usr/local/lib/python3.10/dist-packages (from torch) (3.4.2)\n",
            "Requirement already satisfied: jinja2 in /usr/local/lib/python3.10/dist-packages (from torch) (3.1.4)\n",
            "Requirement already satisfied: fsspec in /usr/local/lib/python3.10/dist-packages (from torch) (2024.10.0)\n",
            "Requirement already satisfied: sympy==1.13.1 in /usr/local/lib/python3.10/dist-packages (from torch) (1.13.1)\n",
            "Requirement already satisfied: mpmath<1.4,>=1.1.0 in /usr/local/lib/python3.10/dist-packages (from sympy==1.13.1->torch) (1.3.0)\n",
            "Requirement already satisfied: numpy in /usr/local/lib/python3.10/dist-packages (from torchvision) (1.26.4)\n",
            "Requirement already satisfied: pillow!=8.3.*,>=5.3.0 in /usr/local/lib/python3.10/dist-packages (from torchvision) (11.0.0)\n",
            "Requirement already satisfied: MarkupSafe>=2.0 in /usr/local/lib/python3.10/dist-packages (from jinja2->torch) (3.0.2)\n",
            "Requirement already satisfied: tqdm in /usr/local/lib/python3.10/dist-packages (4.66.6)\n"
          ]
        }
      ],
      "source": [
        "!pip3 install textblob vaderSentiment transformers\n",
        "!pip3 install torch torchvision torchaudio\n",
        "!pip3 install tqdm\n",
        "\n"
      ]
    },
    {
      "cell_type": "code",
      "source": [
        "from google.colab import drive\n",
        "drive.mount('/content/drive/')\n"
      ],
      "metadata": {
        "colab": {
          "base_uri": "https://localhost:8080/"
        },
        "id": "QW6l71cz6PLl",
        "outputId": "b90683bc-627e-4632-eecf-05c4b1123ae7"
      },
      "execution_count": 2,
      "outputs": [
        {
          "output_type": "stream",
          "name": "stdout",
          "text": [
            "Mounted at /content/drive/\n"
          ]
        }
      ]
    },
    {
      "cell_type": "code",
      "execution_count": 6,
      "metadata": {
        "colab": {
          "base_uri": "https://localhost:8080/"
        },
        "id": "eYjBLCgg6Ciz",
        "outputId": "8a08c031-b4cb-410b-d429-eac12f4184e0"
      },
      "outputs": [
        {
          "output_type": "stream",
          "name": "stdout",
          "text": [
            "                                                  title  \\\n",
            "0     An Ice Cream Mogul and His Fellow Burlingtonia...   \n",
            "1     Bill Clinton, Back in Iowa, Refuses to Respond...   \n",
            "2               Donald Trump Brings Gridlock to Vermont   \n",
            "3     Ad Wars of 2016 Campaign Erupt in a Changing T...   \n",
            "4     Ted Cruz’s Iowa Bus Tour: Using ‘Star Wars’ to...   \n",
            "...                                                 ...   \n",
            "3109  Trump Picks Key Figure in Project 2025 for Pow...   \n",
            "3110  Pam Bondi, a $25,000 Donation and Trump Univer...   \n",
            "3111                          Matt Gaetz and the D-word   \n",
            "3112  Republicans Blocking Proposal to Narrow Part o...   \n",
            "3113  Elon Musk Gets a Crash Course in How Trumpworl...   \n",
            "\n",
            "                                                snippet  \\\n",
            "0     In a liberal enclave fiercely loyal to Bernie ...   \n",
            "1     Bill Clinton returned to the campaign trail in...   \n",
            "2     Donald J. Trump brought gridlock to Burlington...   \n",
            "3     Candidates and the outside groups supporting t...   \n",
            "4     Ted Cruz said that the new “Star Wars” movie w...   \n",
            "...                                                 ...   \n",
            "3109  Russell Vought, who would lead the Office of M...   \n",
            "3110  While Ms. Bondi, President-elect Donald J. Tru...   \n",
            "3111  The former representative from Florida said he...   \n",
            "3112  The second Trump administration appears likely...   \n",
            "3113  The world’s richest person, not known for his ...   \n",
            "\n",
            "                                                    url  \\\n",
            "0     https://www.nytimes.com/politics/first-draft/2...   \n",
            "1     https://www.nytimes.com/politics/first-draft/2...   \n",
            "2     https://www.nytimes.com/politics/first-draft/2...   \n",
            "3     https://www.nytimes.com/2016/01/08/us/politics...   \n",
            "4     https://www.nytimes.com/politics/first-draft/2...   \n",
            "...                                                 ...   \n",
            "3109  https://www.nytimes.com/2024/11/22/us/politics...   \n",
            "3110  https://www.nytimes.com/2024/11/22/us/politics...   \n",
            "3111  https://www.nytimes.com/2024/11/22/us/politics...   \n",
            "3112  https://www.nytimes.com/2024/11/22/us/politics...   \n",
            "3113  https://www.nytimes.com/2024/11/22/us/politics...   \n",
            "\n",
            "                published_date section subsection  \n",
            "0     2016-01-07T23:04:26+0000    U.S.   Politics  \n",
            "1     2016-01-07T22:49:18+0000    U.S.   Politics  \n",
            "2     2016-01-07T22:23:31+0000    U.S.   Politics  \n",
            "3     2016-01-07T22:13:10+0000    U.S.   Politics  \n",
            "4     2016-01-07T21:56:16+0000    U.S.   Politics  \n",
            "...                        ...     ...        ...  \n",
            "3109  2024-11-23T00:12:34+0000    U.S.   Politics  \n",
            "3110  2024-11-23T00:02:37+0000    U.S.   Politics  \n",
            "3111  2024-11-22T23:53:49+0000    U.S.   Politics  \n",
            "3112  2024-11-22T23:52:37+0000    U.S.   Politics  \n",
            "3113  2024-11-22T16:39:19+0000    U.S.   Politics  \n",
            "\n",
            "[3114 rows x 6 columns]\n"
          ]
        }
      ],
      "source": [
        "import pandas as pd\n",
        "file_path = \"/content/drive/My Drive/nyt_articles_merged.csv\"\n",
        "\n",
        "dataframe = pd.read_csv(file_path, delimiter=\",\")\n",
        "print(dataframe)\n",
        "snippets = dataframe[\"snippet\"]"
      ]
    },
    {
      "cell_type": "code",
      "source": [
        "dataframe = dataframe.dropna(subset=['snippet'])  # Drop NaN in 'snippet' column\n",
        "\n",
        "# Optionally, drop rows where 'snippet' is an empty string\n",
        "dataframe = dataframe[dataframe['snippet'].str.strip() != '']\n",
        "print(dataframe.shape)  # To verify the number of rows left\n"
      ],
      "metadata": {
        "colab": {
          "base_uri": "https://localhost:8080/"
        },
        "id": "IU1AsvLHAzDh",
        "outputId": "bc97dcc4-066b-45a6-e05c-fa079590f744"
      },
      "execution_count": 10,
      "outputs": [
        {
          "output_type": "stream",
          "name": "stdout",
          "text": [
            "(3085, 6)\n"
          ]
        }
      ]
    },
    {
      "cell_type": "code",
      "execution_count": 11,
      "metadata": {
        "colab": {
          "base_uri": "https://localhost:8080/"
        },
        "id": "JSa-tkLx6Ciz",
        "outputId": "20282262-f49a-4010-d149-cfcd6ddf4253"
      },
      "outputs": [
        {
          "output_type": "stream",
          "name": "stderr",
          "text": [
            "Analyzing Sentiment: 100%|██████████| 3085/3085 [10:12<00:00,  5.04it/s]"
          ]
        },
        {
          "output_type": "stream",
          "name": "stdout",
          "text": [
            "                                                  title  \\\n",
            "0     An Ice Cream Mogul and His Fellow Burlingtonia...   \n",
            "1     Bill Clinton, Back in Iowa, Refuses to Respond...   \n",
            "2               Donald Trump Brings Gridlock to Vermont   \n",
            "3     Ad Wars of 2016 Campaign Erupt in a Changing T...   \n",
            "4     Ted Cruz’s Iowa Bus Tour: Using ‘Star Wars’ to...   \n",
            "...                                                 ...   \n",
            "3109  Trump Picks Key Figure in Project 2025 for Pow...   \n",
            "3110  Pam Bondi, a $25,000 Donation and Trump Univer...   \n",
            "3111                          Matt Gaetz and the D-word   \n",
            "3112  Republicans Blocking Proposal to Narrow Part o...   \n",
            "3113  Elon Musk Gets a Crash Course in How Trumpworl...   \n",
            "\n",
            "                                                snippet  \\\n",
            "0     In a liberal enclave fiercely loyal to Bernie ...   \n",
            "1     Bill Clinton returned to the campaign trail in...   \n",
            "2     Donald J. Trump brought gridlock to Burlington...   \n",
            "3     Candidates and the outside groups supporting t...   \n",
            "4     Ted Cruz said that the new “Star Wars” movie w...   \n",
            "...                                                 ...   \n",
            "3109  Russell Vought, who would lead the Office of M...   \n",
            "3110  While Ms. Bondi, President-elect Donald J. Tru...   \n",
            "3111  The former representative from Florida said he...   \n",
            "3112  The second Trump administration appears likely...   \n",
            "3113  The world’s richest person, not known for his ...   \n",
            "\n",
            "                                                    url  \\\n",
            "0     https://www.nytimes.com/politics/first-draft/2...   \n",
            "1     https://www.nytimes.com/politics/first-draft/2...   \n",
            "2     https://www.nytimes.com/politics/first-draft/2...   \n",
            "3     https://www.nytimes.com/2016/01/08/us/politics...   \n",
            "4     https://www.nytimes.com/politics/first-draft/2...   \n",
            "...                                                 ...   \n",
            "3109  https://www.nytimes.com/2024/11/22/us/politics...   \n",
            "3110  https://www.nytimes.com/2024/11/22/us/politics...   \n",
            "3111  https://www.nytimes.com/2024/11/22/us/politics...   \n",
            "3112  https://www.nytimes.com/2024/11/22/us/politics...   \n",
            "3113  https://www.nytimes.com/2024/11/22/us/politics...   \n",
            "\n",
            "                published_date section subsection sentiment_label  \\\n",
            "0     2016-01-07T23:04:26+0000    U.S.   Politics        negative   \n",
            "1     2016-01-07T22:49:18+0000    U.S.   Politics         neutral   \n",
            "2     2016-01-07T22:23:31+0000    U.S.   Politics        negative   \n",
            "3     2016-01-07T22:13:10+0000    U.S.   Politics         neutral   \n",
            "4     2016-01-07T21:56:16+0000    U.S.   Politics         neutral   \n",
            "...                        ...     ...        ...             ...   \n",
            "3109  2024-11-23T00:12:34+0000    U.S.   Politics         neutral   \n",
            "3110  2024-11-23T00:02:37+0000    U.S.   Politics        negative   \n",
            "3111  2024-11-22T23:53:49+0000    U.S.   Politics        negative   \n",
            "3112  2024-11-22T23:52:37+0000    U.S.   Politics         neutral   \n",
            "3113  2024-11-22T16:39:19+0000    U.S.   Politics         neutral   \n",
            "\n",
            "      sentiment_score  \n",
            "0            0.757460  \n",
            "1            0.789728  \n",
            "2            0.942191  \n",
            "3            0.765094  \n",
            "4            0.830147  \n",
            "...               ...  \n",
            "3109         0.524772  \n",
            "3110         0.479569  \n",
            "3111         0.523817  \n",
            "3112         0.487569  \n",
            "3113         0.822730  \n",
            "\n",
            "[3085 rows x 8 columns]\n"
          ]
        },
        {
          "output_type": "stream",
          "name": "stderr",
          "text": [
            "\n"
          ]
        }
      ],
      "source": [
        "from transformers import pipeline\n",
        "import torch\n",
        "from tqdm import tqdm\n",
        "\n",
        "sentiment_pipeline = pipeline(\"sentiment-analysis\", model=\"ProsusAI/finbert\")\n",
        "\n",
        "snippets_list = snippets.dropna().tolist()  # Drop NaN and convert to list\n",
        "snippets_list = [str(snippet) for snippet in snippets_list]  # Ensure strings\n",
        "\n",
        "results = []\n",
        "for snippet in tqdm(snippets_list, desc=\"Analyzing Sentiment\"):\n",
        "    try:\n",
        "        result = sentiment_pipeline(snippet)\n",
        "        results.append(result[0])  # Append the first result (single example)\n",
        "    except Exception as e:\n",
        "        # Handle any errors (optional)\n",
        "        results.append({\"label\": \"ERROR\", \"score\": 0.0})\n",
        "\n",
        "# Add sentiment results to DataFrame\n",
        "dataframe['sentiment_label'] = [res['label'] for res in results]\n",
        "dataframe['sentiment_score'] = [res['score'] for res in results]\n",
        "\n",
        "print(dataframe)"
      ]
    },
    {
      "cell_type": "code",
      "source": [
        "save_path = \"/content/drive/My Drive/nyt_articles_sentiment.csv\"\n",
        "dataframe.to_csv(save_path, index=False)"
      ],
      "metadata": {
        "id": "926Dhq_R---L"
      },
      "execution_count": 12,
      "outputs": []
    }
  ],
  "metadata": {
    "kernelspec": {
      "display_name": "Python 3",
      "language": "python",
      "name": "python3"
    },
    "language_info": {
      "codemirror_mode": {
        "name": "ipython",
        "version": 3
      },
      "file_extension": ".py",
      "mimetype": "text/x-python",
      "name": "python",
      "nbconvert_exporter": "python",
      "pygments_lexer": "ipython3",
      "version": "3.9.6"
    },
    "colab": {
      "provenance": []
    }
  },
  "nbformat": 4,
  "nbformat_minor": 0
}