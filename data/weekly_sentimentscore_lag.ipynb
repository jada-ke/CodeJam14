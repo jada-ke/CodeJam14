{
  "nbformat": 4,
  "nbformat_minor": 0,
  "metadata": {
    "colab": {
      "provenance": []
    },
    "kernelspec": {
      "name": "python3",
      "display_name": "Python 3"
    },
    "language_info": {
      "name": "python"
    }
  },
  "cells": [
    {
      "cell_type": "code",
      "execution_count": 1,
      "metadata": {
        "colab": {
          "base_uri": "https://localhost:8080/"
        },
        "id": "rmw4_JGRrIuQ",
        "outputId": "3c148dca-95df-468a-afab-d502b702ff2c"
      },
      "outputs": [
        {
          "output_type": "stream",
          "name": "stdout",
          "text": [
            "Mounted at /content/drive/\n"
          ]
        }
      ],
      "source": [
        "from google.colab import drive\n",
        "drive.mount('/content/drive/')"
      ]
    },
    {
      "cell_type": "code",
      "source": [
        "import pandas as pd\n",
        "import numpy as np\n"
      ],
      "metadata": {
        "id": "mlCiq9oWrbbz"
      },
      "execution_count": 2,
      "outputs": []
    },
    {
      "cell_type": "code",
      "source": [
        "articles_path = \"/content/drive/My Drive/nyt_articles_sentiment_scaled.csv\"\n",
        "articledf = pd.read_csv(articles_path)\n",
        "pd.set_option('display.max_columns',1000)\n",
        "pd.set_option('display.width',10000)\n",
        "print(articledf.head())"
      ],
      "metadata": {
        "colab": {
          "base_uri": "https://localhost:8080/"
        },
        "id": "zu5n8Uz_sQHP",
        "outputId": "dbcd362c-6349-4f07-9a99-35118097e2bc"
      },
      "execution_count": 5,
      "outputs": [
        {
          "output_type": "stream",
          "name": "stdout",
          "text": [
            "                                               title                                            snippet                                                url            published_date       section subsection sentiment_label  sentiment_score  cluster  scaling_score  scaled_score\n",
            "0  Federal Reserve Won’t Backpedal on Interest Ra...  Ms Yellen the Fed chairwoman told senators tha...  https://www.nytimes.com/2016/02/12/business/ec...  2016-02-11T19:09:41+0000  Business Day    Economy        positive         0.648025        0            1.3      0.842433\n",
            "1  The Cities on the Sunny Side of the American E...  In places like Denver Seattle and Atlanta empl...  https://www.nytimes.com/2016/04/01/business/ec...  2016-03-31T18:54:38+0000  Business Day    Economy        positive         0.403958        0            1.3      0.525146\n",
            "2               City by City, Measuring the Recovery  Cities like Denver San Jose Calif and Austin T...  https://www.nytimes.com/interactive/2016/04/01...  2016-03-31T16:50:11+0000  Business Day    Economy        negative         0.823946        0            1.3      1.071130\n",
            "3  Joel Kurtzman, Economist of Gloom Who Shifted ...  Credited with coining the termeconomic headwin...  https://www.nytimes.com/2016/04/08/business/ec...  2016-04-07T20:17:41+0000  Business Day    Economy         neutral         0.694590       -1            0.7      0.486213\n",
            "4  The Recovery’s Two Sides: Weak Growth Even as ...  The trajectory of the economic recovery remain...  https://www.nytimes.com/2016/04/29/business/ec...  2016-04-28T12:33:45+0000  Business Day    Economy        negative         0.454277        0            1.3      0.590560\n"
          ]
        }
      ]
    },
    {
      "cell_type": "code",
      "source": [
        "startDate = \"2016-01-01\"\n",
        "endDate = \"2024-11-23\"\n",
        "\n",
        "articledf['published_date'] = pd.to_datetime(articledf['published_date'])\n",
        "articledf['week'] = articledf['published_date'].dt.to_period('W').apply(lambda r: r.start_time)\n",
        "weekly_sentiment = articledf.groupby('week')['scaled_score'].mean().reset_index()\n",
        "\n",
        "\n",
        "weekly_sentiment['Start Date'] = weekly_sentiment['week']\n",
        "weekly_sentiment['End Date'] = weekly_sentiment['week'] + pd.Timedelta(days=6)\n",
        "\n",
        "weekly_sentiment = weekly_sentiment.rename(columns={\n",
        "    'scaled_score': 'Sentiment Score'\n",
        "})\n",
        "\n",
        "weeklydf = weekly_sentiment[['Start Date', 'End Date', 'Sentiment Score']]\n",
        "print(weeklydf)\n"
      ],
      "metadata": {
        "colab": {
          "base_uri": "https://localhost:8080/"
        },
        "id": "leMA_JA1rek4",
        "outputId": "69e3c785-4c0f-4a09-8498-7bb4ec5d6f1b"
      },
      "execution_count": 20,
      "outputs": [
        {
          "output_type": "stream",
          "name": "stderr",
          "text": [
            "<ipython-input-20-8ae867d9fdda>:5: UserWarning: Converting to PeriodArray/Index representation will drop timezone information.\n",
            "  articledf['week'] = articledf['published_date'].dt.to_period('W').apply(lambda r: r.start_time)\n"
          ]
        },
        {
          "output_type": "stream",
          "name": "stdout",
          "text": [
            "    Start Date   End Date  Sentiment Score\n",
            "0   2016-01-04 2016-01-10         0.505057\n",
            "1   2016-01-11 2016-01-17         0.443757\n",
            "2   2016-01-18 2016-01-24         0.556918\n",
            "3   2016-01-25 2016-01-31         0.425082\n",
            "4   2016-02-01 2016-02-07         0.505660\n",
            "..         ...        ...              ...\n",
            "341 2024-10-21 2024-10-27         0.528765\n",
            "342 2024-10-28 2024-11-03         0.561272\n",
            "343 2024-11-04 2024-11-10         0.513694\n",
            "344 2024-11-11 2024-11-17         0.432878\n",
            "345 2024-11-18 2024-11-24         0.428538\n",
            "\n",
            "[346 rows x 3 columns]\n"
          ]
        }
      ]
    },
    {
      "cell_type": "code",
      "source": [
        "lambda_decay = 0.9\n",
        "for lag in range(1, 4):  # Lag 1 to Lag 3\n",
        "    weeklydf[f'sentiment_weighted_lag_{lag}'] = weeklydf['Sentiment Score'].shift(lag) * (lambda_decay ** lag)\n",
        "\n",
        "# Forward fill missing values in the lagged features\n",
        "weeklydf.bfill(inplace=True)\n",
        "\n",
        "\n",
        "print(weeklydf)\n",
        "\n",
        "save_path = \"/content/drive/My Drive/weekly_sentiment_lag.csv\"\n",
        "weeklydf.to_csv(save_path, index=False)"
      ],
      "metadata": {
        "colab": {
          "base_uri": "https://localhost:8080/"
        },
        "id": "Q6VtsIqy43wI",
        "outputId": "aad8c407-d5e5-48ec-8c6d-6d3c09cac8e1"
      },
      "execution_count": 21,
      "outputs": [
        {
          "output_type": "stream",
          "name": "stdout",
          "text": [
            "    Start Date   End Date  Sentiment Score  sentiment_weighted_lag_1  sentiment_weighted_lag_2  sentiment_weighted_lag_3\n",
            "0   2016-01-04 2016-01-10         0.505057                  0.454551                  0.409096                  0.368186\n",
            "1   2016-01-11 2016-01-17         0.443757                  0.454551                  0.409096                  0.368186\n",
            "2   2016-01-18 2016-01-24         0.556918                  0.399381                  0.409096                  0.368186\n",
            "3   2016-01-25 2016-01-31         0.425082                  0.501226                  0.359443                  0.368186\n",
            "4   2016-02-01 2016-02-07         0.505660                  0.382574                  0.451103                  0.323499\n",
            "..         ...        ...              ...                       ...                       ...                       ...\n",
            "341 2024-10-21 2024-10-27         0.528765                  0.470155                  0.481904                  0.328837\n",
            "342 2024-10-28 2024-11-03         0.561272                  0.475889                  0.423140                  0.433714\n",
            "343 2024-11-04 2024-11-10         0.513694                  0.505145                  0.428300                  0.380826\n",
            "344 2024-11-11 2024-11-17         0.432878                  0.462325                  0.454630                  0.385470\n",
            "345 2024-11-18 2024-11-24         0.428538                  0.389590                  0.416092                  0.409167\n",
            "\n",
            "[346 rows x 6 columns]\n"
          ]
        }
      ]
    }
  ]
}