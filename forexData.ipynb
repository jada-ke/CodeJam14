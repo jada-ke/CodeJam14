{
  "nbformat": 4,
  "nbformat_minor": 0,
  "metadata": {
    "colab": {
      "provenance": [],
      "authorship_tag": "ABX9TyOjyMePYxMx94IJBfUtbaND",
      "include_colab_link": true
    },
    "kernelspec": {
      "name": "python3",
      "display_name": "Python 3"
    },
    "language_info": {
      "name": "python"
    }
  },
  "cells": [
    {
      "cell_type": "markdown",
      "metadata": {
        "id": "view-in-github",
        "colab_type": "text"
      },
      "source": [
        "<a href=\"https://colab.research.google.com/github/jada-ke/CodeJam14/blob/main/forexData.ipynb\" target=\"_parent\"><img src=\"https://colab.research.google.com/assets/colab-badge.svg\" alt=\"Open In Colab\"/></a>"
      ]
    },
    {
      "cell_type": "markdown",
      "source": [
        "**Mount Google Drive**"
      ],
      "metadata": {
        "id": "NxfocW3TY0sG"
      }
    },
    {
      "cell_type": "code",
      "source": [
        "from google.colab import drive\n",
        "drive.mount('/content/drive')"
      ],
      "metadata": {
        "colab": {
          "base_uri": "https://localhost:8080/"
        },
        "id": "KYNaaTCZbsR-",
        "outputId": "b1794058-1094-4f1b-8881-a815c9518f23"
      },
      "execution_count": 28,
      "outputs": [
        {
          "output_type": "stream",
          "name": "stdout",
          "text": [
            "Drive already mounted at /content/drive; to attempt to forcibly remount, call drive.mount(\"/content/drive\", force_remount=True).\n"
          ]
        }
      ]
    },
    {
      "cell_type": "markdown",
      "source": [
        "Confirm filepath existence"
      ],
      "metadata": {
        "id": "d8lZeL9Ggucq"
      }
    },
    {
      "cell_type": "code",
      "source": [
        "import os\n",
        "\n",
        "file_path = \"/content/drive/MyDrive/Ai4Ducks/Hackathon/CodeJam/Data/Collection/forex_data.csv\"\n",
        "if os.path.exists(file_path):\n",
        "    print(\"File exists!\")\n",
        "else:\n",
        "    print(\"File not found!\")\n"
      ],
      "metadata": {
        "colab": {
          "base_uri": "https://localhost:8080/"
        },
        "id": "1Amm35SSfFrk",
        "outputId": "a75e51e9-dff4-4cd0-f719-d3a707db8804"
      },
      "execution_count": 8,
      "outputs": [
        {
          "output_type": "stream",
          "name": "stdout",
          "text": [
            "File not found!\n"
          ]
        }
      ]
    },
    {
      "cell_type": "markdown",
      "source": [
        "Confirm filepath"
      ],
      "metadata": {
        "id": "pb8tJaEZgm6J"
      }
    },
    {
      "cell_type": "code",
      "source": [
        "!ls /content/drive/MyDrive/Ai4Ducks/hack/CodeJam/Data/Collection\n",
        "\n"
      ],
      "metadata": {
        "id": "ihy4Zy0ifLUA"
      },
      "execution_count": 33,
      "outputs": []
    },
    {
      "cell_type": "markdown",
      "source": [
        "# Forex Data Collection <br>\n",
        "Alpha Vantage API: XKZSE3FWFDZL44FP <br>\n",
        "Dates: January 01, 2016 to November 22, 2024"
      ],
      "metadata": {
        "id": "RtMkz96gb9mR"
      }
    },
    {
      "cell_type": "code",
      "source": [
        "import requests\n",
        "import pandas as pd\n",
        "from datetime import datetime, timedelta\n",
        "\n",
        "# Alpha Vantage API key\n",
        "API_KEY = \"XKZSE3FWFDZL44FP\"\n",
        "\n",
        "# CAD/USD\n",
        "FROM_CURRENCY = \"CAD\"\n",
        "TO_CURRENCY = \"USD\"\n",
        "BASE_URL = \"https://www.alphavantage.co/query\"\n",
        "\n",
        "# Fetch forex data\n",
        "def fetch_forex_data(api_key, from_currency, to_currency, output_size=\"full\"):\n",
        "    \"\"\"\n",
        "    Fetch historical forex data using Alpha Vantage API.\n",
        "    \"\"\"\n",
        "    params = {\n",
        "        \"function\": \"FX_DAILY\",\n",
        "        \"from_symbol\": from_currency,\n",
        "        \"to_symbol\": to_currency,\n",
        "        \"apikey\": api_key,\n",
        "        \"outputsize\": output_size,\n",
        "        \"datatype\": \"json\",\n",
        "    }\n",
        "    response = requests.get(BASE_URL, params=params)\n",
        "    data = response.json()\n",
        "    if \"Time Series FX (Daily)\" in data:\n",
        "        return data[\"Time Series FX (Daily)\"]\n",
        "    else:\n",
        "        raise Exception(f\"Error fetching data: {data.get('Error Message', data)}\")\n",
        "\n",
        "# Convert the data to a DataFrame\n",
        "def process_forex_data(raw_data):\n",
        "    \"\"\"\n",
        "    Convert raw forex data to a Pandas DataFrame.\n",
        "    \"\"\"\n",
        "    records = []\n",
        "    for date, metrics in raw_data.items():\n",
        "        record = {\n",
        "            \"Date\": date,\n",
        "            \"Open\": float(metrics[\"1. open\"]),\n",
        "            \"High\": float(metrics[\"2. high\"]),\n",
        "            \"Low\": float(metrics[\"3. low\"]),\n",
        "            \"Close\": float(metrics[\"4. close\"]),\n",
        "        }\n",
        "        records.append(record)\n",
        "    df = pd.DataFrame(records)\n",
        "    df[\"Date\"] = pd.to_datetime(df[\"Date\"])\n",
        "    return df\n",
        "\n",
        "# Save DataFrame to CSV\n",
        "def save_to_csv(df, file_path):\n",
        "    \"\"\"\n",
        "    Save the DataFrame to a CSV file.\n",
        "    \"\"\"\n",
        "    df.to_csv(file_path, index=False)\n",
        "    print(f\"Data saved to {file_path}\")\n",
        "\n",
        "# Main Script\n",
        "if __name__ == \"__main__\":\n",
        "    raw_data = fetch_forex_data(API_KEY, FROM_CURRENCY, TO_CURRENCY)\n",
        "    forex_df = process_forex_data(raw_data)\n",
        "\n",
        "    # Define file path\n",
        "    file_path = \"/content/drive/MyDrive/Ai4Ducks/hack/CodeJam/Data/Collection/forex_data.csv\"\n",
        "\n",
        "    # Save to CSV\n",
        "    save_to_csv(forex_df, file_path)\n"
      ],
      "metadata": {
        "colab": {
          "base_uri": "https://localhost:8080/"
        },
        "id": "L2ums2pehgrf",
        "outputId": "363d1b55-5c12-421f-ee8a-54d4b207826f"
      },
      "execution_count": 37,
      "outputs": [
        {
          "output_type": "stream",
          "name": "stdout",
          "text": [
            "Data saved to /content/drive/MyDrive/Ai4Ducks/hack/CodeJam/Data/Collection/forex_data.csv\n"
          ]
        }
      ]
    }
  ]
}