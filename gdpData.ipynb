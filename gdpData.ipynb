{
  "nbformat": 4,
  "nbformat_minor": 0,
  "metadata": {
    "colab": {
      "provenance": [],
      "authorship_tag": "ABX9TyNao/YBYCYtrpSxdK0x49I7",
      "include_colab_link": true
    },
    "kernelspec": {
      "name": "python3",
      "display_name": "Python 3"
    },
    "language_info": {
      "name": "python"
    }
  },
  "cells": [
    {
      "cell_type": "markdown",
      "metadata": {
        "id": "view-in-github",
        "colab_type": "text"
      },
      "source": [
        "<a href=\"https://colab.research.google.com/github/jada-ke/CodeJam14/blob/main/gdpData.ipynb\" target=\"_parent\"><img src=\"https://colab.research.google.com/assets/colab-badge.svg\" alt=\"Open In Colab\"/></a>"
      ]
    },
    {
      "cell_type": "markdown",
      "source": [
        "**Mount Google Drive**"
      ],
      "metadata": {
        "id": "MX8an51J8PZw"
      }
    },
    {
      "cell_type": "code",
      "execution_count": 10,
      "metadata": {
        "colab": {
          "base_uri": "https://localhost:8080/"
        },
        "id": "cpNXGVhLkV3z",
        "outputId": "545b1a0f-08ca-417d-b131-57048b42fe6c"
      },
      "outputs": [
        {
          "output_type": "stream",
          "name": "stdout",
          "text": [
            "Drive already mounted at /content/drive; to attempt to forcibly remount, call drive.mount(\"/content/drive\", force_remount=True).\n"
          ]
        }
      ],
      "source": [
        "from google.colab import drive\n",
        "drive.mount('/content/drive')"
      ]
    },
    {
      "cell_type": "markdown",
      "source": [
        "# GDP Data Collection <br>\n",
        "**Source**: OECD <br>\n",
        "**Dates:** January 01, 2016 to November 22, 2024 <br>\n",
        "- Annual Data 2016 to 2023 <br>\n",
        "- Quarterly Data 2024 <br>\n",
        "   - **USA:** Q1, Q2, Q3 <br>\n",
        "   - **Canada:** Q1"
      ],
      "metadata": {
        "id": "YKMvMcv5mlGc"
      }
    },
    {
      "cell_type": "code",
      "source": [
        "pip install requests pandas\n"
      ],
      "metadata": {
        "colab": {
          "base_uri": "https://localhost:8080/"
        },
        "id": "NybWcY2yvfcd",
        "outputId": "212afd86-6b47-4b69-db4c-dc79fa3324a8"
      },
      "execution_count": 8,
      "outputs": [
        {
          "output_type": "stream",
          "name": "stdout",
          "text": [
            "Requirement already satisfied: requests in /usr/local/lib/python3.10/dist-packages (2.32.3)\n",
            "Requirement already satisfied: pandas in /usr/local/lib/python3.10/dist-packages (2.2.2)\n",
            "Requirement already satisfied: charset-normalizer<4,>=2 in /usr/local/lib/python3.10/dist-packages (from requests) (3.4.0)\n",
            "Requirement already satisfied: idna<4,>=2.5 in /usr/local/lib/python3.10/dist-packages (from requests) (3.10)\n",
            "Requirement already satisfied: urllib3<3,>=1.21.1 in /usr/local/lib/python3.10/dist-packages (from requests) (2.2.3)\n",
            "Requirement already satisfied: certifi>=2017.4.17 in /usr/local/lib/python3.10/dist-packages (from requests) (2024.8.30)\n",
            "Requirement already satisfied: numpy>=1.22.4 in /usr/local/lib/python3.10/dist-packages (from pandas) (1.26.4)\n",
            "Requirement already satisfied: python-dateutil>=2.8.2 in /usr/local/lib/python3.10/dist-packages (from pandas) (2.8.2)\n",
            "Requirement already satisfied: pytz>=2020.1 in /usr/local/lib/python3.10/dist-packages (from pandas) (2024.2)\n",
            "Requirement already satisfied: tzdata>=2022.7 in /usr/local/lib/python3.10/dist-packages (from pandas) (2024.2)\n",
            "Requirement already satisfied: six>=1.5 in /usr/local/lib/python3.10/dist-packages (from python-dateutil>=2.8.2->pandas) (1.16.0)\n"
          ]
        }
      ]
    },
    {
      "cell_type": "markdown",
      "source": [
        "**Sources:** annual_gdp.csv, quarterly_gdp.csv\n",
        "1. filtered relevant data <br>\n",
        "2. combined data"
      ],
      "metadata": {
        "id": "HYiEWwSPAtdt"
      }
    },
    {
      "cell_type": "code",
      "source": [
        "import pandas as pd\n",
        "\n",
        "# Load the annual GDP data (2016-2023) for US and Canada\n",
        "annual_file_path = '/content/drive/MyDrive/Ai4Ducks/hack/CodeJam/Data/Collection/annual_gdp.csv'\n",
        "annual_df = pd.read_csv(annual_file_path)\n",
        "\n",
        "# Load the quarterly GDP data for US and Canada (2024 Q1, Q2, Q3)\n",
        "quarterly_file_path = '/content/drive/MyDrive/Ai4Ducks/hack/CodeJam/Data/Collection/quarterly_gdp.csv'\n",
        "quarterly_df = pd.read_csv(quarterly_file_path)\n",
        "\n",
        "# Inspect the columns to understand the structure (if you haven't already)\n",
        "print(annual_df.columns)\n",
        "print(quarterly_df.columns)\n",
        "\n",
        "# Filter for USA and Canada\n",
        "annual_df = annual_df[annual_df['REF_AREA'].isin(['USA', 'CAN'])]\n",
        "\n",
        "# We need to focus on the 'TIME_PERIOD' and 'OBS_VALUE' for GDP\n",
        "annual_gdp_df = annual_df[['REF_AREA', 'TIME_PERIOD', 'OBS_VALUE']]\n",
        "annual_gdp_df = annual_gdp_df.rename(columns={'REF_AREA': 'Country', 'TIME_PERIOD': 'Year', 'OBS_VALUE': 'GDP'})\n",
        "\n",
        "# Now for the quarterly data, filter for the same countries (USA and Canada)\n",
        "quarterly_df = quarterly_df[quarterly_df['REF_AREA'].isin(['USA', 'CAN'])]\n",
        "\n",
        "# Filter columns needed for merging (same as annual data)\n",
        "quarterly_gdp_df = quarterly_df[['REF_AREA', 'TIME_PERIOD', 'OBS_VALUE']]\n",
        "quarterly_gdp_df = quarterly_gdp_df.rename(columns={'REF_AREA': 'Country', 'TIME_PERIOD': 'Year', 'OBS_VALUE': 'GDP'})\n",
        "\n",
        "# Convert the 'TIME_PERIOD' to year-quarter format if necessary\n",
        "# If the 'TIME_PERIOD' is in a date format like '2024Q1', extract just the year part or create a new 'Year' column\n",
        "quarterly_gdp_df['Year'] = quarterly_gdp_df['Year'].str[:4]  # Extract the year part if the format is 'YYYYQ1'\n",
        "\n",
        "# To combine the quarterly data into yearly data, we can sum or average the GDP for the year\n",
        "quarterly_gdp_df = quarterly_gdp_df.groupby(['Country', 'Year']).agg({'GDP': 'sum'}).reset_index()\n",
        "\n",
        "# Now combine the annual and adjusted quarterly data into one DataFrame\n",
        "combined_df = pd.concat([annual_gdp_df, quarterly_gdp_df], ignore_index=True)\n",
        "\n",
        "# Ensure the combined data is sorted by country and year\n",
        "combined_df = combined_df.sort_values(by=['Country', 'Year'])\n",
        "\n",
        "# Check the combined DataFrame\n",
        "print(combined_df.head())\n",
        "\n",
        "# Save the combined data to a new CSV file\n",
        "combined_df.to_csv('/content/drive/MyDrive/Ai4Ducks/hack/CodeJam/Data/Collection/combined_gdp.csv', index=False)\n"
      ],
      "metadata": {
        "colab": {
          "base_uri": "https://localhost:8080/"
        },
        "id": "759DWXiI_-ka",
        "outputId": "791dc537-5489-4eb7-a0b2-d98507338bbd"
      },
      "execution_count": 13,
      "outputs": [
        {
          "output_type": "stream",
          "name": "stdout",
          "text": [
            "Index(['STRUCTURE', 'STRUCTURE_ID', 'STRUCTURE_NAME', 'ACTION', 'FREQ',\n",
            "       'Frequency of observation', 'ADJUSTMENT', 'Adjustment', 'REF_AREA',\n",
            "       'Reference area', 'SECTOR', 'Institutional sector',\n",
            "       'COUNTERPART_SECTOR', 'Counterpart institutional sector', 'TRANSACTION',\n",
            "       'Transaction', 'INSTR_ASSET',\n",
            "       'Financial instruments and non-financial assets', 'ACTIVITY',\n",
            "       'Economic activity', 'EXPENDITURE', 'Expenditure', 'UNIT_MEASURE',\n",
            "       'Unit of measure', 'PRICE_BASE', 'Price base', 'TRANSFORMATION',\n",
            "       'Transformation', 'TABLE_IDENTIFIER', 'Table identifier', 'TIME_PERIOD',\n",
            "       'Time period', 'OBS_VALUE', 'Observation value', 'REF_YEAR_PRICE',\n",
            "       'Price reference year', 'BASE_PER', 'Base period', 'CONF_STATUS',\n",
            "       'Confidentiality status', 'DECIMALS', 'Decimals', 'OBS_STATUS',\n",
            "       'Observation status', 'UNIT_MULT', 'Unit multiplier', 'CURRENCY',\n",
            "       'Currency'],\n",
            "      dtype='object')\n",
            "Index(['STRUCTURE', 'STRUCTURE_ID', 'STRUCTURE_NAME', 'ACTION', 'FREQ',\n",
            "       'Frequency of observation', 'ADJUSTMENT', 'Adjustment', 'REF_AREA',\n",
            "       'Reference area', 'SECTOR', 'Institutional sector',\n",
            "       'COUNTERPART_SECTOR', 'Counterpart institutional sector', 'TRANSACTION',\n",
            "       'Transaction', 'INSTR_ASSET',\n",
            "       'Financial instruments and non-financial assets', 'ACTIVITY',\n",
            "       'Economic activity', 'EXPENDITURE', 'Expenditure', 'UNIT_MEASURE',\n",
            "       'Unit of measure', 'PRICE_BASE', 'Price base', 'TRANSFORMATION',\n",
            "       'Transformation', 'TABLE_IDENTIFIER', 'Table identifier', 'TIME_PERIOD',\n",
            "       'Time period', 'OBS_VALUE', 'Observation value', 'REF_YEAR_PRICE',\n",
            "       'Price reference year', 'BASE_PER', 'Base period', 'CONF_STATUS',\n",
            "       'Confidentiality status', 'DECIMALS', 'Decimals', 'OBS_STATUS',\n",
            "       'Observation status', 'UNIT_MULT', 'Unit multiplier', 'CURRENCY',\n",
            "       'Currency'],\n",
            "      dtype='object')\n",
            "  Country  Year      GDP\n",
            "3     CAN  2016  46545.8\n",
            "4     CAN  2017  48384.6\n",
            "7     CAN  2018  50068.1\n",
            "8     CAN  2019  50584.1\n",
            "1     CAN  2020  48630.2\n"
          ]
        }
      ]
    }
  ]
}